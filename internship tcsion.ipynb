{
 "cells": [
  {
   "cell_type": "markdown",
   "id": "4a964670",
   "metadata": {},
   "source": [
    "# Importing standard libraries\n"
   ]
  },
  {
   "cell_type": "code",
   "execution_count": 1,
   "id": "e8c1f917",
   "metadata": {},
   "outputs": [],
   "source": [
    "import numpy as np\n",
    "import pandas as pd\n",
    "import matplotlib.pyplot as plt\n",
    "import seaborn as sns\n",
    "%matplotlib inline\n",
    "\n",
    "import warnings\n",
    "warnings.filterwarnings('ignore')"
   ]
  },
  {
   "cell_type": "markdown",
   "id": "8b0e3796",
   "metadata": {},
   "source": [
    "# Loading the dataset\n"
   ]
  },
  {
   "cell_type": "code",
   "execution_count": 2,
   "id": "efea03d1",
   "metadata": {},
   "outputs": [],
   "source": [
    "data = pd.read_csv('drugs_dataset.csv')\n"
   ]
  },
  {
   "cell_type": "code",
   "execution_count": 3,
   "id": "4e9fd2c8",
   "metadata": {},
   "outputs": [
    {
     "data": {
      "text/html": [
       "<div>\n",
       "<style scoped>\n",
       "    .dataframe tbody tr th:only-of-type {\n",
       "        vertical-align: middle;\n",
       "    }\n",
       "\n",
       "    .dataframe tbody tr th {\n",
       "        vertical-align: top;\n",
       "    }\n",
       "\n",
       "    .dataframe thead th {\n",
       "        text-align: right;\n",
       "    }\n",
       "</style>\n",
       "<table border=\"1\" class=\"dataframe\">\n",
       "  <thead>\n",
       "    <tr style=\"text-align: right;\">\n",
       "      <th></th>\n",
       "      <th>Name</th>\n",
       "      <th>Race</th>\n",
       "      <th>Age</th>\n",
       "      <th>Condition</th>\n",
       "      <th>Date</th>\n",
       "      <th>Drug</th>\n",
       "      <th>DrugId</th>\n",
       "      <th>EaseofUse</th>\n",
       "      <th>Effectiveness</th>\n",
       "      <th>Reviews</th>\n",
       "      <th>Satisfaction</th>\n",
       "      <th>Sex</th>\n",
       "      <th>Sides</th>\n",
       "      <th>UsefulCount</th>\n",
       "    </tr>\n",
       "  </thead>\n",
       "  <tbody>\n",
       "    <tr>\n",
       "      <th>0</th>\n",
       "      <td>Megan Smith</td>\n",
       "      <td>Black</td>\n",
       "      <td>75 or over</td>\n",
       "      <td>Stuffy Nose</td>\n",
       "      <td>9/21/2014</td>\n",
       "      <td>25dph-7.5peh</td>\n",
       "      <td>146724</td>\n",
       "      <td>5</td>\n",
       "      <td>5</td>\n",
       "      <td>I'm a retired physician and of all the meds I ...</td>\n",
       "      <td>5</td>\n",
       "      <td>Male</td>\n",
       "      <td>Drowsiness,  dizziness ,  dry mouth /nose/thro...</td>\n",
       "      <td>0</td>\n",
       "    </tr>\n",
       "    <tr>\n",
       "      <th>1</th>\n",
       "      <td>Sheryl Avery</td>\n",
       "      <td>White</td>\n",
       "      <td>25-34</td>\n",
       "      <td>Cold Symptoms</td>\n",
       "      <td>1/13/2011</td>\n",
       "      <td>25dph-7.5peh</td>\n",
       "      <td>146724</td>\n",
       "      <td>5</td>\n",
       "      <td>5</td>\n",
       "      <td>cleared me right up even with my throat hurtin...</td>\n",
       "      <td>5</td>\n",
       "      <td>Female</td>\n",
       "      <td>Drowsiness,  dizziness ,  dry mouth /nose/thro...</td>\n",
       "      <td>1</td>\n",
       "    </tr>\n",
       "    <tr>\n",
       "      <th>2</th>\n",
       "      <td>Scott Santiago</td>\n",
       "      <td>Black</td>\n",
       "      <td>65-74</td>\n",
       "      <td>Other</td>\n",
       "      <td>7/16/2012</td>\n",
       "      <td>warfarin (bulk) 100 % powder</td>\n",
       "      <td>144731</td>\n",
       "      <td>2</td>\n",
       "      <td>3</td>\n",
       "      <td>why did my PTINR go from a normal of 2.5 to ov...</td>\n",
       "      <td>3</td>\n",
       "      <td>Female</td>\n",
       "      <td></td>\n",
       "      <td>0</td>\n",
       "    </tr>\n",
       "    <tr>\n",
       "      <th>3</th>\n",
       "      <td>Robert Carroll</td>\n",
       "      <td>Asian</td>\n",
       "      <td>75 or over</td>\n",
       "      <td>Other</td>\n",
       "      <td>9/23/2010</td>\n",
       "      <td>warfarin (bulk) 100 % powder</td>\n",
       "      <td>144731</td>\n",
       "      <td>2</td>\n",
       "      <td>2</td>\n",
       "      <td>FALLING AND DON'T REALISE IT</td>\n",
       "      <td>1</td>\n",
       "      <td>Female</td>\n",
       "      <td></td>\n",
       "      <td>0</td>\n",
       "    </tr>\n",
       "    <tr>\n",
       "      <th>4</th>\n",
       "      <td>Dylan Booth</td>\n",
       "      <td>Asian</td>\n",
       "      <td>35-44</td>\n",
       "      <td>Other</td>\n",
       "      <td>1/6/2009</td>\n",
       "      <td>warfarin (bulk) 100 % powder</td>\n",
       "      <td>144731</td>\n",
       "      <td>1</td>\n",
       "      <td>1</td>\n",
       "      <td>My grandfather was prescribed this medication ...</td>\n",
       "      <td>1</td>\n",
       "      <td>Male</td>\n",
       "      <td></td>\n",
       "      <td>1</td>\n",
       "    </tr>\n",
       "  </tbody>\n",
       "</table>\n",
       "</div>"
      ],
      "text/plain": [
       "             Name   Race         Age      Condition       Date  \\\n",
       "0     Megan Smith  Black  75 or over    Stuffy Nose  9/21/2014   \n",
       "1    Sheryl Avery  White       25-34  Cold Symptoms  1/13/2011   \n",
       "2  Scott Santiago  Black       65-74          Other  7/16/2012   \n",
       "3  Robert Carroll  Asian  75 or over          Other  9/23/2010   \n",
       "4     Dylan Booth  Asian       35-44          Other   1/6/2009   \n",
       "\n",
       "                           Drug  DrugId  EaseofUse  Effectiveness  \\\n",
       "0                  25dph-7.5peh  146724          5              5   \n",
       "1                  25dph-7.5peh  146724          5              5   \n",
       "2  warfarin (bulk) 100 % powder  144731          2              3   \n",
       "3  warfarin (bulk) 100 % powder  144731          2              2   \n",
       "4  warfarin (bulk) 100 % powder  144731          1              1   \n",
       "\n",
       "                                             Reviews  Satisfaction     Sex  \\\n",
       "0  I'm a retired physician and of all the meds I ...             5    Male   \n",
       "1  cleared me right up even with my throat hurtin...             5  Female   \n",
       "2  why did my PTINR go from a normal of 2.5 to ov...             3  Female   \n",
       "3                       FALLING AND DON'T REALISE IT             1  Female   \n",
       "4  My grandfather was prescribed this medication ...             1    Male   \n",
       "\n",
       "                                               Sides  UsefulCount  \n",
       "0  Drowsiness,  dizziness ,  dry mouth /nose/thro...            0  \n",
       "1  Drowsiness,  dizziness ,  dry mouth /nose/thro...            1  \n",
       "2                                                               0  \n",
       "3                                                               0  \n",
       "4                                                               1  "
      ]
     },
     "execution_count": 3,
     "metadata": {},
     "output_type": "execute_result"
    }
   ],
   "source": [
    "data.head()\n"
   ]
  },
  {
   "cell_type": "markdown",
   "id": "25358db7",
   "metadata": {},
   "source": [
    "# Description of the dataset\n"
   ]
  },
  {
   "cell_type": "raw",
   "id": "5f325144",
   "metadata": {},
   "source": [
    "Name : Name of the patient\n",
    "\n",
    "Race : Race of the patient\n",
    "\n",
    "Age : Age of the patient\n",
    "\n",
    "Condition : Condition/symptom from which the patient is suffering\n",
    "\n",
    "Date : Date of usage\n",
    "\n",
    "Drug : Name of the drug\n",
    "\n",
    "DrugId : Identity/code of drug\n",
    "\n",
    "EaseofUse : Patient's 10-Star rating on the ease of use of drug\n",
    "\n",
    "Effectiveness : Patient's 10-Star rating on the effectiveness of drug\n",
    "\n",
    "Reviews : Patient's review\n",
    "\n",
    "Satisfaction : Patient's 10-Star rating on satisfaction\n",
    "\n",
    "Sex : Gender of the patient\n",
    "\n",
    "\n",
    "Sides : Side effects of the drug\n",
    "\n",
    "UsefulCount : Number of users who found the review useful\n",
    "\n"
   ]
  },
  {
   "cell_type": "markdown",
   "id": "03cb7887",
   "metadata": {},
   "source": [
    "# Data exploration\n"
   ]
  },
  {
   "cell_type": "code",
   "execution_count": 4,
   "id": "82e186d6",
   "metadata": {},
   "outputs": [
    {
     "data": {
      "text/html": [
       "<div>\n",
       "<style scoped>\n",
       "    .dataframe tbody tr th:only-of-type {\n",
       "        vertical-align: middle;\n",
       "    }\n",
       "\n",
       "    .dataframe tbody tr th {\n",
       "        vertical-align: top;\n",
       "    }\n",
       "\n",
       "    .dataframe thead th {\n",
       "        text-align: right;\n",
       "    }\n",
       "</style>\n",
       "<table border=\"1\" class=\"dataframe\">\n",
       "  <thead>\n",
       "    <tr style=\"text-align: right;\">\n",
       "      <th></th>\n",
       "      <th>Name</th>\n",
       "      <th>Race</th>\n",
       "      <th>Age</th>\n",
       "      <th>Condition</th>\n",
       "      <th>Date</th>\n",
       "      <th>Drug</th>\n",
       "      <th>DrugId</th>\n",
       "      <th>EaseofUse</th>\n",
       "      <th>Effectiveness</th>\n",
       "      <th>Reviews</th>\n",
       "      <th>Satisfaction</th>\n",
       "      <th>Sex</th>\n",
       "      <th>Sides</th>\n",
       "      <th>UsefulCount</th>\n",
       "    </tr>\n",
       "  </thead>\n",
       "  <tbody>\n",
       "    <tr>\n",
       "      <th>0</th>\n",
       "      <td>Megan Smith</td>\n",
       "      <td>Black</td>\n",
       "      <td>75 or over</td>\n",
       "      <td>Stuffy Nose</td>\n",
       "      <td>9/21/2014</td>\n",
       "      <td>25dph-7.5peh</td>\n",
       "      <td>146724</td>\n",
       "      <td>5</td>\n",
       "      <td>5</td>\n",
       "      <td>I'm a retired physician and of all the meds I ...</td>\n",
       "      <td>5</td>\n",
       "      <td>Male</td>\n",
       "      <td>Drowsiness,  dizziness ,  dry mouth /nose/thro...</td>\n",
       "      <td>0</td>\n",
       "    </tr>\n",
       "    <tr>\n",
       "      <th>1</th>\n",
       "      <td>Sheryl Avery</td>\n",
       "      <td>White</td>\n",
       "      <td>25-34</td>\n",
       "      <td>Cold Symptoms</td>\n",
       "      <td>1/13/2011</td>\n",
       "      <td>25dph-7.5peh</td>\n",
       "      <td>146724</td>\n",
       "      <td>5</td>\n",
       "      <td>5</td>\n",
       "      <td>cleared me right up even with my throat hurtin...</td>\n",
       "      <td>5</td>\n",
       "      <td>Female</td>\n",
       "      <td>Drowsiness,  dizziness ,  dry mouth /nose/thro...</td>\n",
       "      <td>1</td>\n",
       "    </tr>\n",
       "    <tr>\n",
       "      <th>2</th>\n",
       "      <td>Scott Santiago</td>\n",
       "      <td>Black</td>\n",
       "      <td>65-74</td>\n",
       "      <td>Other</td>\n",
       "      <td>7/16/2012</td>\n",
       "      <td>warfarin (bulk) 100 % powder</td>\n",
       "      <td>144731</td>\n",
       "      <td>2</td>\n",
       "      <td>3</td>\n",
       "      <td>why did my PTINR go from a normal of 2.5 to ov...</td>\n",
       "      <td>3</td>\n",
       "      <td>Female</td>\n",
       "      <td></td>\n",
       "      <td>0</td>\n",
       "    </tr>\n",
       "    <tr>\n",
       "      <th>3</th>\n",
       "      <td>Robert Carroll</td>\n",
       "      <td>Asian</td>\n",
       "      <td>75 or over</td>\n",
       "      <td>Other</td>\n",
       "      <td>9/23/2010</td>\n",
       "      <td>warfarin (bulk) 100 % powder</td>\n",
       "      <td>144731</td>\n",
       "      <td>2</td>\n",
       "      <td>2</td>\n",
       "      <td>FALLING AND DON'T REALISE IT</td>\n",
       "      <td>1</td>\n",
       "      <td>Female</td>\n",
       "      <td></td>\n",
       "      <td>0</td>\n",
       "    </tr>\n",
       "    <tr>\n",
       "      <th>4</th>\n",
       "      <td>Dylan Booth</td>\n",
       "      <td>Asian</td>\n",
       "      <td>35-44</td>\n",
       "      <td>Other</td>\n",
       "      <td>1/6/2009</td>\n",
       "      <td>warfarin (bulk) 100 % powder</td>\n",
       "      <td>144731</td>\n",
       "      <td>1</td>\n",
       "      <td>1</td>\n",
       "      <td>My grandfather was prescribed this medication ...</td>\n",
       "      <td>1</td>\n",
       "      <td>Male</td>\n",
       "      <td></td>\n",
       "      <td>1</td>\n",
       "    </tr>\n",
       "  </tbody>\n",
       "</table>\n",
       "</div>"
      ],
      "text/plain": [
       "             Name   Race         Age      Condition       Date  \\\n",
       "0     Megan Smith  Black  75 or over    Stuffy Nose  9/21/2014   \n",
       "1    Sheryl Avery  White       25-34  Cold Symptoms  1/13/2011   \n",
       "2  Scott Santiago  Black       65-74          Other  7/16/2012   \n",
       "3  Robert Carroll  Asian  75 or over          Other  9/23/2010   \n",
       "4     Dylan Booth  Asian       35-44          Other   1/6/2009   \n",
       "\n",
       "                           Drug  DrugId  EaseofUse  Effectiveness  \\\n",
       "0                  25dph-7.5peh  146724          5              5   \n",
       "1                  25dph-7.5peh  146724          5              5   \n",
       "2  warfarin (bulk) 100 % powder  144731          2              3   \n",
       "3  warfarin (bulk) 100 % powder  144731          2              2   \n",
       "4  warfarin (bulk) 100 % powder  144731          1              1   \n",
       "\n",
       "                                             Reviews  Satisfaction     Sex  \\\n",
       "0  I'm a retired physician and of all the meds I ...             5    Male   \n",
       "1  cleared me right up even with my throat hurtin...             5  Female   \n",
       "2  why did my PTINR go from a normal of 2.5 to ov...             3  Female   \n",
       "3                       FALLING AND DON'T REALISE IT             1  Female   \n",
       "4  My grandfather was prescribed this medication ...             1    Male   \n",
       "\n",
       "                                               Sides  UsefulCount  \n",
       "0  Drowsiness,  dizziness ,  dry mouth /nose/thro...            0  \n",
       "1  Drowsiness,  dizziness ,  dry mouth /nose/thro...            1  \n",
       "2                                                               0  \n",
       "3                                                               0  \n",
       "4                                                               1  "
      ]
     },
     "execution_count": 4,
     "metadata": {},
     "output_type": "execute_result"
    }
   ],
   "source": [
    "data.head()\n"
   ]
  },
  {
   "cell_type": "code",
   "execution_count": 5,
   "id": "4cfcfcf8",
   "metadata": {},
   "outputs": [
    {
     "data": {
      "text/html": [
       "<div>\n",
       "<style scoped>\n",
       "    .dataframe tbody tr th:only-of-type {\n",
       "        vertical-align: middle;\n",
       "    }\n",
       "\n",
       "    .dataframe tbody tr th {\n",
       "        vertical-align: top;\n",
       "    }\n",
       "\n",
       "    .dataframe thead th {\n",
       "        text-align: right;\n",
       "    }\n",
       "</style>\n",
       "<table border=\"1\" class=\"dataframe\">\n",
       "  <thead>\n",
       "    <tr style=\"text-align: right;\">\n",
       "      <th></th>\n",
       "      <th>Name</th>\n",
       "      <th>Race</th>\n",
       "      <th>Age</th>\n",
       "      <th>Condition</th>\n",
       "      <th>Date</th>\n",
       "      <th>Drug</th>\n",
       "      <th>DrugId</th>\n",
       "      <th>EaseofUse</th>\n",
       "      <th>Effectiveness</th>\n",
       "      <th>Reviews</th>\n",
       "      <th>Satisfaction</th>\n",
       "      <th>Sex</th>\n",
       "      <th>Sides</th>\n",
       "      <th>UsefulCount</th>\n",
       "    </tr>\n",
       "  </thead>\n",
       "  <tbody>\n",
       "    <tr>\n",
       "      <th>362801</th>\n",
       "      <td>Kristie Griffin</td>\n",
       "      <td>Asian</td>\n",
       "      <td>55-64</td>\n",
       "      <td>Stop Smoking</td>\n",
       "      <td>11/14/2008</td>\n",
       "      <td>chantix</td>\n",
       "      <td>144470</td>\n",
       "      <td>5</td>\n",
       "      <td>5</td>\n",
       "      <td>I took the whole 12 weeks.I could have stopped...</td>\n",
       "      <td>5</td>\n",
       "      <td>Female</td>\n",
       "      <td>Nausea ,  headache ,  vomiting , drowsiness, g...</td>\n",
       "      <td>2</td>\n",
       "    </tr>\n",
       "    <tr>\n",
       "      <th>362802</th>\n",
       "      <td>Dawn Smith</td>\n",
       "      <td>Black</td>\n",
       "      <td></td>\n",
       "      <td>Other</td>\n",
       "      <td>11/14/2008</td>\n",
       "      <td>chantix</td>\n",
       "      <td>144470</td>\n",
       "      <td>2</td>\n",
       "      <td>3</td>\n",
       "      <td>My dad strated taking Chantix about 1 month ag...</td>\n",
       "      <td>1</td>\n",
       "      <td></td>\n",
       "      <td>Nausea ,  headache ,  vomiting , drowsiness, g...</td>\n",
       "      <td>16</td>\n",
       "    </tr>\n",
       "    <tr>\n",
       "      <th>362803</th>\n",
       "      <td>Ann Curry</td>\n",
       "      <td>White</td>\n",
       "      <td>25-34</td>\n",
       "      <td>Stop Smoking</td>\n",
       "      <td>11/13/2008</td>\n",
       "      <td>chantix</td>\n",
       "      <td>144470</td>\n",
       "      <td>2</td>\n",
       "      <td>4</td>\n",
       "      <td>As long as I was on chantix, I didn't smoke.  ...</td>\n",
       "      <td>2</td>\n",
       "      <td>Female</td>\n",
       "      <td>Nausea ,  headache ,  vomiting , drowsiness, g...</td>\n",
       "      <td>3</td>\n",
       "    </tr>\n",
       "    <tr>\n",
       "      <th>362804</th>\n",
       "      <td>April Wallace</td>\n",
       "      <td>Black</td>\n",
       "      <td>55-64</td>\n",
       "      <td>Stop Smoking</td>\n",
       "      <td>11/13/2008</td>\n",
       "      <td>chantix</td>\n",
       "      <td>144470</td>\n",
       "      <td>5</td>\n",
       "      <td>5</td>\n",
       "      <td>Started this medication Oct 5th 2008. Haven't ...</td>\n",
       "      <td>5</td>\n",
       "      <td>Male</td>\n",
       "      <td>Nausea ,  headache ,  vomiting , drowsiness, g...</td>\n",
       "      <td>1</td>\n",
       "    </tr>\n",
       "    <tr>\n",
       "      <th>362805</th>\n",
       "      <td>Kathryn Oconnor</td>\n",
       "      <td>Hispanic</td>\n",
       "      <td>45-54</td>\n",
       "      <td>Stop Smoking</td>\n",
       "      <td>11/12/2008</td>\n",
       "      <td>chantix</td>\n",
       "      <td>144470</td>\n",
       "      <td>4</td>\n",
       "      <td>5</td>\n",
       "      <td>One year ago, I tried Chantix and had to stop ...</td>\n",
       "      <td>5</td>\n",
       "      <td>Female</td>\n",
       "      <td>Nausea ,  headache ,  vomiting , drowsiness, g...</td>\n",
       "      <td>3</td>\n",
       "    </tr>\n",
       "  </tbody>\n",
       "</table>\n",
       "</div>"
      ],
      "text/plain": [
       "                   Name      Race    Age     Condition        Date     Drug  \\\n",
       "362801  Kristie Griffin     Asian  55-64  Stop Smoking  11/14/2008  chantix   \n",
       "362802       Dawn Smith     Black                Other  11/14/2008  chantix   \n",
       "362803        Ann Curry     White  25-34  Stop Smoking  11/13/2008  chantix   \n",
       "362804    April Wallace     Black  55-64  Stop Smoking  11/13/2008  chantix   \n",
       "362805  Kathryn Oconnor  Hispanic  45-54  Stop Smoking  11/12/2008  chantix   \n",
       "\n",
       "        DrugId  EaseofUse  Effectiveness  \\\n",
       "362801  144470          5              5   \n",
       "362802  144470          2              3   \n",
       "362803  144470          2              4   \n",
       "362804  144470          5              5   \n",
       "362805  144470          4              5   \n",
       "\n",
       "                                                  Reviews  Satisfaction  \\\n",
       "362801  I took the whole 12 weeks.I could have stopped...             5   \n",
       "362802  My dad strated taking Chantix about 1 month ag...             1   \n",
       "362803  As long as I was on chantix, I didn't smoke.  ...             2   \n",
       "362804  Started this medication Oct 5th 2008. Haven't ...             5   \n",
       "362805  One year ago, I tried Chantix and had to stop ...             5   \n",
       "\n",
       "           Sex                                              Sides  UsefulCount  \n",
       "362801  Female  Nausea ,  headache ,  vomiting , drowsiness, g...            2  \n",
       "362802          Nausea ,  headache ,  vomiting , drowsiness, g...           16  \n",
       "362803  Female  Nausea ,  headache ,  vomiting , drowsiness, g...            3  \n",
       "362804    Male  Nausea ,  headache ,  vomiting , drowsiness, g...            1  \n",
       "362805  Female  Nausea ,  headache ,  vomiting , drowsiness, g...            3  "
      ]
     },
     "execution_count": 5,
     "metadata": {},
     "output_type": "execute_result"
    }
   ],
   "source": [
    "data.tail()\n"
   ]
  },
  {
   "cell_type": "markdown",
   "id": "88c7df60",
   "metadata": {},
   "source": [
    "# To display more information\n"
   ]
  },
  {
   "cell_type": "code",
   "execution_count": 6,
   "id": "10740403",
   "metadata": {},
   "outputs": [
    {
     "name": "stdout",
     "output_type": "stream",
     "text": [
      "<class 'pandas.core.frame.DataFrame'>\n",
      "RangeIndex: 362806 entries, 0 to 362805\n",
      "Data columns (total 14 columns):\n",
      " #   Column         Non-Null Count   Dtype \n",
      "---  ------         --------------   ----- \n",
      " 0   Name           362806 non-null  object\n",
      " 1   Race           362806 non-null  object\n",
      " 2   Age            362806 non-null  object\n",
      " 3   Condition      362806 non-null  object\n",
      " 4   Date           362806 non-null  object\n",
      " 5   Drug           362806 non-null  object\n",
      " 6   DrugId         362806 non-null  int64 \n",
      " 7   EaseofUse      362806 non-null  int64 \n",
      " 8   Effectiveness  362806 non-null  int64 \n",
      " 9   Reviews        362769 non-null  object\n",
      " 10  Satisfaction   362806 non-null  int64 \n",
      " 11  Sex            362806 non-null  object\n",
      " 12  Sides          362806 non-null  object\n",
      " 13  UsefulCount    362806 non-null  int64 \n",
      "dtypes: int64(5), object(9)\n",
      "memory usage: 38.8+ MB\n"
     ]
    }
   ],
   "source": [
    "data.info()\n"
   ]
  },
  {
   "cell_type": "markdown",
   "id": "cc97fdfd",
   "metadata": {},
   "source": [
    "Insight:The info() method will give summary of the dataset. We can know the basic information about the dataset including the type of columns, non-null values and memory usage. This dataset contains 9 categorical variables and 5 integer variables.\n",
    "\n",
    "\n"
   ]
  },
  {
   "cell_type": "code",
   "execution_count": 7,
   "id": "a9188823",
   "metadata": {},
   "outputs": [
    {
     "data": {
      "text/plain": [
       "(362806, 14)"
      ]
     },
     "execution_count": 7,
     "metadata": {},
     "output_type": "execute_result"
    }
   ],
   "source": [
    "data.shape\n"
   ]
  },
  {
   "cell_type": "markdown",
   "id": "0f5b0a55",
   "metadata": {},
   "source": [
    "The dataset contains 362806 rows and 14 columns.\n",
    "\n"
   ]
  },
  {
   "cell_type": "markdown",
   "id": "06a6166f",
   "metadata": {},
   "source": [
    "# Checking for any NULL values\n"
   ]
  },
  {
   "cell_type": "code",
   "execution_count": 8,
   "id": "a51aa178",
   "metadata": {},
   "outputs": [
    {
     "data": {
      "text/plain": [
       "Name             False\n",
       "Race             False\n",
       "Age              False\n",
       "Condition        False\n",
       "Date             False\n",
       "Drug             False\n",
       "DrugId           False\n",
       "EaseofUse        False\n",
       "Effectiveness    False\n",
       "Reviews           True\n",
       "Satisfaction     False\n",
       "Sex              False\n",
       "Sides            False\n",
       "UsefulCount      False\n",
       "dtype: bool"
      ]
     },
     "execution_count": 8,
     "metadata": {},
     "output_type": "execute_result"
    }
   ],
   "source": [
    "data.isnull().any()\n"
   ]
  },
  {
   "cell_type": "markdown",
   "id": "aef208cb",
   "metadata": {},
   "source": [
    "'Reviews' has missing values.\n",
    "\n"
   ]
  },
  {
   "cell_type": "code",
   "execution_count": 9,
   "id": "c5473b02",
   "metadata": {},
   "outputs": [
    {
     "data": {
      "text/plain": [
       "Name              0\n",
       "Race              0\n",
       "Age               0\n",
       "Condition         0\n",
       "Date              0\n",
       "Drug              0\n",
       "DrugId            0\n",
       "EaseofUse         0\n",
       "Effectiveness     0\n",
       "Reviews          37\n",
       "Satisfaction      0\n",
       "Sex               0\n",
       "Sides             0\n",
       "UsefulCount       0\n",
       "dtype: int64"
      ]
     },
     "execution_count": 9,
     "metadata": {},
     "output_type": "execute_result"
    }
   ],
   "source": [
    "data.isna().sum()\n"
   ]
  },
  {
   "cell_type": "markdown",
   "id": "ae9f56f4",
   "metadata": {},
   "source": [
    "'Reviews' column has 37 missing values.\n"
   ]
  },
  {
   "cell_type": "markdown",
   "id": "dfe3bac2",
   "metadata": {},
   "source": [
    "# Datatypes of columns\n"
   ]
  },
  {
   "cell_type": "code",
   "execution_count": 10,
   "id": "7e5ba027",
   "metadata": {},
   "outputs": [
    {
     "data": {
      "text/plain": [
       "Name             object\n",
       "Race             object\n",
       "Age              object\n",
       "Condition        object\n",
       "Date             object\n",
       "Drug             object\n",
       "DrugId            int64\n",
       "EaseofUse         int64\n",
       "Effectiveness     int64\n",
       "Reviews          object\n",
       "Satisfaction      int64\n",
       "Sex              object\n",
       "Sides            object\n",
       "UsefulCount       int64\n",
       "dtype: object"
      ]
     },
     "execution_count": 10,
     "metadata": {},
     "output_type": "execute_result"
    }
   ],
   "source": [
    "data.dtypes\n"
   ]
  },
  {
   "cell_type": "markdown",
   "id": "45e31854",
   "metadata": {},
   "source": [
    "The dataset contains five integer datatype fields and nine object datatype fields.\n",
    "\n"
   ]
  },
  {
   "cell_type": "markdown",
   "id": "c8df35a9",
   "metadata": {},
   "source": [
    "# Descriptive statistics\n"
   ]
  },
  {
   "cell_type": "code",
   "execution_count": 11,
   "id": "26787d35",
   "metadata": {},
   "outputs": [
    {
     "data": {
      "text/html": [
       "<div>\n",
       "<style scoped>\n",
       "    .dataframe tbody tr th:only-of-type {\n",
       "        vertical-align: middle;\n",
       "    }\n",
       "\n",
       "    .dataframe tbody tr th {\n",
       "        vertical-align: top;\n",
       "    }\n",
       "\n",
       "    .dataframe thead th {\n",
       "        text-align: right;\n",
       "    }\n",
       "</style>\n",
       "<table border=\"1\" class=\"dataframe\">\n",
       "  <thead>\n",
       "    <tr style=\"text-align: right;\">\n",
       "      <th></th>\n",
       "      <th>DrugId</th>\n",
       "      <th>EaseofUse</th>\n",
       "      <th>Effectiveness</th>\n",
       "      <th>Satisfaction</th>\n",
       "      <th>UsefulCount</th>\n",
       "    </tr>\n",
       "  </thead>\n",
       "  <tbody>\n",
       "    <tr>\n",
       "      <th>count</th>\n",
       "      <td>362806.000000</td>\n",
       "      <td>362806.000000</td>\n",
       "      <td>362806.000000</td>\n",
       "      <td>362806.000000</td>\n",
       "      <td>362806.000000</td>\n",
       "    </tr>\n",
       "    <tr>\n",
       "      <th>mean</th>\n",
       "      <td>36879.370774</td>\n",
       "      <td>4.019829</td>\n",
       "      <td>3.532061</td>\n",
       "      <td>3.135408</td>\n",
       "      <td>6.744916</td>\n",
       "    </tr>\n",
       "    <tr>\n",
       "      <th>std</th>\n",
       "      <td>52624.412971</td>\n",
       "      <td>1.317711</td>\n",
       "      <td>1.455961</td>\n",
       "      <td>1.611106</td>\n",
       "      <td>9.324240</td>\n",
       "    </tr>\n",
       "    <tr>\n",
       "      <th>min</th>\n",
       "      <td>1.000000</td>\n",
       "      <td>1.000000</td>\n",
       "      <td>1.000000</td>\n",
       "      <td>1.000000</td>\n",
       "      <td>0.000000</td>\n",
       "    </tr>\n",
       "    <tr>\n",
       "      <th>25%</th>\n",
       "      <td>4896.000000</td>\n",
       "      <td>3.000000</td>\n",
       "      <td>3.000000</td>\n",
       "      <td>1.000000</td>\n",
       "      <td>1.000000</td>\n",
       "    </tr>\n",
       "    <tr>\n",
       "      <th>50%</th>\n",
       "      <td>9548.000000</td>\n",
       "      <td>5.000000</td>\n",
       "      <td>4.000000</td>\n",
       "      <td>3.000000</td>\n",
       "      <td>4.000000</td>\n",
       "    </tr>\n",
       "    <tr>\n",
       "      <th>75%</th>\n",
       "      <td>63522.000000</td>\n",
       "      <td>5.000000</td>\n",
       "      <td>5.000000</td>\n",
       "      <td>5.000000</td>\n",
       "      <td>9.000000</td>\n",
       "    </tr>\n",
       "    <tr>\n",
       "      <th>max</th>\n",
       "      <td>178546.000000</td>\n",
       "      <td>10.000000</td>\n",
       "      <td>10.000000</td>\n",
       "      <td>10.000000</td>\n",
       "      <td>255.000000</td>\n",
       "    </tr>\n",
       "  </tbody>\n",
       "</table>\n",
       "</div>"
      ],
      "text/plain": [
       "              DrugId      EaseofUse  Effectiveness   Satisfaction  \\\n",
       "count  362806.000000  362806.000000  362806.000000  362806.000000   \n",
       "mean    36879.370774       4.019829       3.532061       3.135408   \n",
       "std     52624.412971       1.317711       1.455961       1.611106   \n",
       "min         1.000000       1.000000       1.000000       1.000000   \n",
       "25%      4896.000000       3.000000       3.000000       1.000000   \n",
       "50%      9548.000000       5.000000       4.000000       3.000000   \n",
       "75%     63522.000000       5.000000       5.000000       5.000000   \n",
       "max    178546.000000      10.000000      10.000000      10.000000   \n",
       "\n",
       "         UsefulCount  \n",
       "count  362806.000000  \n",
       "mean        6.744916  \n",
       "std         9.324240  \n",
       "min         0.000000  \n",
       "25%         1.000000  \n",
       "50%         4.000000  \n",
       "75%         9.000000  \n",
       "max       255.000000  "
      ]
     },
     "execution_count": 11,
     "metadata": {},
     "output_type": "execute_result"
    }
   ],
   "source": [
    "data.describe()\n"
   ]
  },
  {
   "cell_type": "markdown",
   "id": "81f4c00e",
   "metadata": {},
   "source": [
    "Displays the summary statistics such as count, mean, standard deviation, minimum and maximum value, first, second and third quartile values.\n",
    "\n"
   ]
  },
  {
   "cell_type": "code",
   "execution_count": 12,
   "id": "ac6559ec",
   "metadata": {},
   "outputs": [
    {
     "data": {
      "text/html": [
       "<div>\n",
       "<style scoped>\n",
       "    .dataframe tbody tr th:only-of-type {\n",
       "        vertical-align: middle;\n",
       "    }\n",
       "\n",
       "    .dataframe tbody tr th {\n",
       "        vertical-align: top;\n",
       "    }\n",
       "\n",
       "    .dataframe thead th {\n",
       "        text-align: right;\n",
       "    }\n",
       "</style>\n",
       "<table border=\"1\" class=\"dataframe\">\n",
       "  <thead>\n",
       "    <tr style=\"text-align: right;\">\n",
       "      <th></th>\n",
       "      <th>count</th>\n",
       "      <th>mean</th>\n",
       "      <th>std</th>\n",
       "      <th>min</th>\n",
       "      <th>25%</th>\n",
       "      <th>50%</th>\n",
       "      <th>75%</th>\n",
       "      <th>max</th>\n",
       "    </tr>\n",
       "  </thead>\n",
       "  <tbody>\n",
       "    <tr>\n",
       "      <th>DrugId</th>\n",
       "      <td>362806.0</td>\n",
       "      <td>36879.370774</td>\n",
       "      <td>52624.412971</td>\n",
       "      <td>1.0</td>\n",
       "      <td>4896.0</td>\n",
       "      <td>9548.0</td>\n",
       "      <td>63522.0</td>\n",
       "      <td>178546.0</td>\n",
       "    </tr>\n",
       "    <tr>\n",
       "      <th>EaseofUse</th>\n",
       "      <td>362806.0</td>\n",
       "      <td>4.019829</td>\n",
       "      <td>1.317711</td>\n",
       "      <td>1.0</td>\n",
       "      <td>3.0</td>\n",
       "      <td>5.0</td>\n",
       "      <td>5.0</td>\n",
       "      <td>10.0</td>\n",
       "    </tr>\n",
       "    <tr>\n",
       "      <th>Effectiveness</th>\n",
       "      <td>362806.0</td>\n",
       "      <td>3.532061</td>\n",
       "      <td>1.455961</td>\n",
       "      <td>1.0</td>\n",
       "      <td>3.0</td>\n",
       "      <td>4.0</td>\n",
       "      <td>5.0</td>\n",
       "      <td>10.0</td>\n",
       "    </tr>\n",
       "    <tr>\n",
       "      <th>Satisfaction</th>\n",
       "      <td>362806.0</td>\n",
       "      <td>3.135408</td>\n",
       "      <td>1.611106</td>\n",
       "      <td>1.0</td>\n",
       "      <td>1.0</td>\n",
       "      <td>3.0</td>\n",
       "      <td>5.0</td>\n",
       "      <td>10.0</td>\n",
       "    </tr>\n",
       "    <tr>\n",
       "      <th>UsefulCount</th>\n",
       "      <td>362806.0</td>\n",
       "      <td>6.744916</td>\n",
       "      <td>9.324240</td>\n",
       "      <td>0.0</td>\n",
       "      <td>1.0</td>\n",
       "      <td>4.0</td>\n",
       "      <td>9.0</td>\n",
       "      <td>255.0</td>\n",
       "    </tr>\n",
       "  </tbody>\n",
       "</table>\n",
       "</div>"
      ],
      "text/plain": [
       "                  count          mean           std  min     25%     50%  \\\n",
       "DrugId         362806.0  36879.370774  52624.412971  1.0  4896.0  9548.0   \n",
       "EaseofUse      362806.0      4.019829      1.317711  1.0     3.0     5.0   \n",
       "Effectiveness  362806.0      3.532061      1.455961  1.0     3.0     4.0   \n",
       "Satisfaction   362806.0      3.135408      1.611106  1.0     1.0     3.0   \n",
       "UsefulCount    362806.0      6.744916      9.324240  0.0     1.0     4.0   \n",
       "\n",
       "                   75%       max  \n",
       "DrugId         63522.0  178546.0  \n",
       "EaseofUse          5.0      10.0  \n",
       "Effectiveness      5.0      10.0  \n",
       "Satisfaction       5.0      10.0  \n",
       "UsefulCount        9.0     255.0  "
      ]
     },
     "execution_count": 12,
     "metadata": {},
     "output_type": "execute_result"
    }
   ],
   "source": [
    "data.describe().T\n"
   ]
  },
  {
   "cell_type": "markdown",
   "id": "20f08086",
   "metadata": {},
   "source": [
    "EaseofUse, Effectiveness and Satisfaction ranges from 1 to 10. UsefulCount varies from 0 to 255.\n",
    "\n"
   ]
  },
  {
   "cell_type": "markdown",
   "id": "d3d455ea",
   "metadata": {},
   "source": [
    "# Summary statistics - object datatype\n"
   ]
  },
  {
   "cell_type": "code",
   "execution_count": 13,
   "id": "3380b495",
   "metadata": {},
   "outputs": [
    {
     "data": {
      "text/html": [
       "<div>\n",
       "<style scoped>\n",
       "    .dataframe tbody tr th:only-of-type {\n",
       "        vertical-align: middle;\n",
       "    }\n",
       "\n",
       "    .dataframe tbody tr th {\n",
       "        vertical-align: top;\n",
       "    }\n",
       "\n",
       "    .dataframe thead th {\n",
       "        text-align: right;\n",
       "    }\n",
       "</style>\n",
       "<table border=\"1\" class=\"dataframe\">\n",
       "  <thead>\n",
       "    <tr style=\"text-align: right;\">\n",
       "      <th></th>\n",
       "      <th>count</th>\n",
       "      <th>unique</th>\n",
       "      <th>top</th>\n",
       "      <th>freq</th>\n",
       "    </tr>\n",
       "  </thead>\n",
       "  <tbody>\n",
       "    <tr>\n",
       "      <th>Name</th>\n",
       "      <td>362806</td>\n",
       "      <td>180928</td>\n",
       "      <td>Michael Smith</td>\n",
       "      <td>169</td>\n",
       "    </tr>\n",
       "    <tr>\n",
       "      <th>Race</th>\n",
       "      <td>362806</td>\n",
       "      <td>4</td>\n",
       "      <td>White</td>\n",
       "      <td>115752</td>\n",
       "    </tr>\n",
       "    <tr>\n",
       "      <th>Age</th>\n",
       "      <td>362806</td>\n",
       "      <td>12</td>\n",
       "      <td>45-54</td>\n",
       "      <td>80043</td>\n",
       "    </tr>\n",
       "    <tr>\n",
       "      <th>Condition</th>\n",
       "      <td>362806</td>\n",
       "      <td>1806</td>\n",
       "      <td>Other</td>\n",
       "      <td>49765</td>\n",
       "    </tr>\n",
       "    <tr>\n",
       "      <th>Date</th>\n",
       "      <td>362806</td>\n",
       "      <td>4524</td>\n",
       "      <td>10/29/2007</td>\n",
       "      <td>404</td>\n",
       "    </tr>\n",
       "    <tr>\n",
       "      <th>Drug</th>\n",
       "      <td>362806</td>\n",
       "      <td>7093</td>\n",
       "      <td>cymbalta</td>\n",
       "      <td>4648</td>\n",
       "    </tr>\n",
       "    <tr>\n",
       "      <th>Reviews</th>\n",
       "      <td>362769</td>\n",
       "      <td>250167</td>\n",
       "      <td></td>\n",
       "      <td>41824</td>\n",
       "    </tr>\n",
       "    <tr>\n",
       "      <th>Sex</th>\n",
       "      <td>362806</td>\n",
       "      <td>3</td>\n",
       "      <td>Female</td>\n",
       "      <td>238226</td>\n",
       "    </tr>\n",
       "    <tr>\n",
       "      <th>Sides</th>\n",
       "      <td>362806</td>\n",
       "      <td>1651</td>\n",
       "      <td></td>\n",
       "      <td>17460</td>\n",
       "    </tr>\n",
       "  </tbody>\n",
       "</table>\n",
       "</div>"
      ],
      "text/plain": [
       "            count  unique            top    freq\n",
       "Name       362806  180928  Michael Smith     169\n",
       "Race       362806       4          White  115752\n",
       "Age        362806      12          45-54   80043\n",
       "Condition  362806    1806          Other   49765\n",
       "Date       362806    4524     10/29/2007     404\n",
       "Drug       362806    7093       cymbalta    4648\n",
       "Reviews    362769  250167                  41824\n",
       "Sex        362806       3         Female  238226\n",
       "Sides      362806    1651                  17460"
      ]
     },
     "execution_count": 13,
     "metadata": {},
     "output_type": "execute_result"
    }
   ],
   "source": [
    "data.describe(include='object').T\n"
   ]
  },
  {
   "cell_type": "markdown",
   "id": "351982a4",
   "metadata": {},
   "source": [
    "Age group between 45 to 54 is the highest.\n",
    "\n",
    "Female patients are more than male patients.\n",
    "\n",
    "The use of cymbalta is highest when compared with other drugs.\n",
    "\n"
   ]
  },
  {
   "cell_type": "markdown",
   "id": "b1ba3a97",
   "metadata": {},
   "source": [
    "# Checking for duplicate values\n"
   ]
  },
  {
   "cell_type": "code",
   "execution_count": 14,
   "id": "200a87b2",
   "metadata": {},
   "outputs": [
    {
     "data": {
      "text/plain": [
       "0"
      ]
     },
     "execution_count": 14,
     "metadata": {},
     "output_type": "execute_result"
    }
   ],
   "source": [
    "data.duplicated().sum()\n"
   ]
  },
  {
   "cell_type": "markdown",
   "id": "e8214c2a",
   "metadata": {},
   "source": [
    "There are no duplicate values present in the dataset.\n",
    "\n"
   ]
  },
  {
   "cell_type": "markdown",
   "id": "4ccbb8f2",
   "metadata": {},
   "source": [
    "# Exploring the column names\n"
   ]
  },
  {
   "cell_type": "code",
   "execution_count": 15,
   "id": "519ab3ea",
   "metadata": {},
   "outputs": [
    {
     "data": {
      "text/plain": [
       "Index(['Name', 'Race', 'Age', 'Condition', 'Date', 'Drug', 'DrugId',\n",
       "       'EaseofUse', 'Effectiveness', 'Reviews', 'Satisfaction', 'Sex', 'Sides',\n",
       "       'UsefulCount'],\n",
       "      dtype='object')"
      ]
     },
     "execution_count": 15,
     "metadata": {},
     "output_type": "execute_result"
    }
   ],
   "source": [
    "data.columns\n"
   ]
  },
  {
   "cell_type": "markdown",
   "id": "9aefe63a",
   "metadata": {},
   "source": [
    "Displays names of columns in the dataset.\n",
    "\n"
   ]
  },
  {
   "cell_type": "markdown",
   "id": "f6a80d80",
   "metadata": {},
   "source": [
    "# Unique occurrences of each variable\n"
   ]
  },
  {
   "cell_type": "code",
   "execution_count": 16,
   "id": "3ea76641",
   "metadata": {},
   "outputs": [
    {
     "name": "stdout",
     "output_type": "stream",
     "text": [
      "Name : 180928 \n",
      "\n",
      "Race : 4 \n",
      "\n",
      "Age : 12 \n",
      "\n",
      "Condition : 1806 \n",
      "\n",
      "Date : 4524 \n",
      "\n",
      "Drug : 7093 \n",
      "\n",
      "DrugId : 6572 \n",
      "\n",
      "EaseofUse : 7 \n",
      "\n",
      "Effectiveness : 7 \n",
      "\n",
      "Reviews : 250167 \n",
      "\n",
      "Satisfaction : 7 \n",
      "\n",
      "Sex : 3 \n",
      "\n",
      "Sides : 1651 \n",
      "\n",
      "UsefulCount : 148 \n",
      "\n"
     ]
    }
   ],
   "source": [
    "for i in data.columns:\n",
    "    print(i,':',data[i].nunique(),'\\n')"
   ]
  },
  {
   "cell_type": "markdown",
   "id": "2545c8dc",
   "metadata": {},
   "source": [
    "'Sex' has three categories.\n",
    "\n",
    "Four different races are present.\n",
    "\n",
    "'Drug' has more values than 'DrugId'.\n",
    "\n",
    "'Condition' has lesser values than 'Drug'/'DrugId'.\n",
    "\n",
    "'Reviews' has close to 70% unique values."
   ]
  },
  {
   "cell_type": "markdown",
   "id": "c5c052c8",
   "metadata": {},
   "source": [
    "# Creating the list of categorical variables\n"
   ]
  },
  {
   "cell_type": "code",
   "execution_count": 17,
   "id": "a61a88f5",
   "metadata": {},
   "outputs": [
    {
     "data": {
      "text/plain": [
       "['Name', 'Race', 'Age', 'Condition', 'Date', 'Drug', 'Reviews', 'Sex', 'Sides']"
      ]
     },
     "execution_count": 17,
     "metadata": {},
     "output_type": "execute_result"
    }
   ],
   "source": [
    "cat_var = []\n",
    "\n",
    "for column in data:\n",
    "    if data[column].dtype == 'O':\n",
    "        cat_var.append(column)\n",
    "cat_var"
   ]
  },
  {
   "cell_type": "code",
   "execution_count": 18,
   "id": "d5ae7790",
   "metadata": {},
   "outputs": [
    {
     "name": "stdout",
     "output_type": "stream",
     "text": [
      "\n",
      " Name \n",
      " ['Megan Smith' 'Sheryl Avery' 'Scott Santiago' ... 'Ronald Rowland'\n",
      " 'Kristie Griffin' 'Kathryn Oconnor'] \n",
      " ________________________________________________________________________________\n",
      "\n",
      " Race \n",
      " ['Black' 'White' 'Asian' 'Hispanic'] \n",
      " ________________________________________________________________________________\n",
      "\n",
      " Age \n",
      " ['75 or over' '25-34' '65-74' '35-44' '55-64' '45-54' '19-24' ' ' '13-18'\n",
      " '7-12' '0-2' '3-6'] \n",
      " ________________________________________________________________________________\n",
      "\n",
      " Condition \n",
      " ['Stuffy Nose' 'Cold Symptoms' 'Other' ...\n",
      " 'Combative and Explosive Behavior' 'Lead Poisoning'\n",
      " 'Poisoning from Swallowed Unknown Substance'] \n",
      " ________________________________________________________________________________\n",
      "\n",
      " Date \n",
      " ['9/21/2014' '1/13/2011' '7/16/2012' ... '10/25/2019' '6/22/2019'\n",
      " '10/19/2019'] \n",
      " ________________________________________________________________________________\n",
      "\n",
      " Drug \n",
      " ['25dph-7.5peh' 'warfarin (bulk) 100 % powder' 'wymzya fe' ...\n",
      " 'chest congestion relief dm' 'chantix' 'chateal'] \n",
      " ________________________________________________________________________________\n",
      "\n",
      " Reviews \n",
      " [\"I'm a retired physician and of all the meds I have tried for my allergies (seasonal and not) - this one is the most effective for me.  When I first began using this drug some years ago - tiredness as a problem but is not currently.\"\n",
      " 'cleared me right up even with my throat hurting it went away after taking the medicine'\n",
      " 'why did my PTINR go from a normal of 2.5 to over \\n100?' ...\n",
      " \"As long as I was on chantix, I didn't smoke.  Terrible stomach upset after each dose, constipation, headaches constantly, crazy dreams and mood swings.  I have had to stop taking it and have found other ways to stop smoking.\"\n",
      " \"Started this medication Oct 5th 2008. Haven't smoked for 6 weeks and planning on the full 12 weeks program.  I have had some problems like getting sick after the meds but accually it helps because everytime I see a smoker or smell smoke I get sick, still want one but it offsets it.\"\n",
      " \"One year ago, I tried Chantix and had to stop taking it because I was so nauseous in the morning.  Three weeks ago I started it again and found that if I eat 10 minutes before taking the pill, I don't get nauseous at all.  I have been smoke free for two weeks and will never smoke again.  \"] \n",
      " ________________________________________________________________________________\n",
      "\n",
      " Sex \n",
      " ['Male' 'Female' ' '] \n",
      " ________________________________________________________________________________\n",
      "\n",
      " Sides \n",
      " ['Drowsiness,  dizziness ,  dry mouth /nose/throat,  headache ,  upset stomach ,  constipation , or  trouble sleeping  may occur.'\n",
      " ' '\n",
      " 'Nausea ,  vomiting ,  headache ,  bloating ,  breast  tenderness, swelling of the  ankles /feet (fluid retention), or  weight  change may occur.'\n",
      " ...\n",
      " 'Drowsiness,  dizziness ,  nausea ,  constipation ,  blurred vision , or  headache  may occur.'\n",
      " 'Drowsiness,  dizziness ,  dry mouth ,  blurred vision ,  constipation ,  bloating , trouble urinating, and  weight  gain may occur.'\n",
      " 'Diarrhea ,  nausea , or  heartburn  may occur.'] \n",
      " ________________________________________________________________________________\n"
     ]
    }
   ],
   "source": [
    "# finding the unique values in each categorical variables\n",
    "for col in cat_var:\n",
    "    print('\\n', col, '\\n', data[col].unique(), '\\n', '_' * 80)"
   ]
  },
  {
   "cell_type": "code",
   "execution_count": 19,
   "id": "2262fe2b",
   "metadata": {},
   "outputs": [
    {
     "data": {
      "text/plain": [
       "Michael Smith       169\n",
       "Michael Johnson     138\n",
       "Jennifer Smith      131\n",
       "James Smith         122\n",
       "Michael Williams    119\n",
       "                   ... \n",
       "Drew Russell          1\n",
       "Phillip Carlson       1\n",
       "Melissa Dillon        1\n",
       "Tara Aguilar          1\n",
       "Kathryn Oconnor       1\n",
       "Name: Name, Length: 180928, dtype: int64"
      ]
     },
     "execution_count": 19,
     "metadata": {},
     "output_type": "execute_result"
    }
   ],
   "source": [
    "data['Name'].value_counts()\n"
   ]
  },
  {
   "cell_type": "code",
   "execution_count": 20,
   "id": "4cd51ae7",
   "metadata": {},
   "outputs": [
    {
     "data": {
      "text/plain": [
       "White       115752\n",
       "Hispanic    101856\n",
       "Black        79935\n",
       "Asian        65263\n",
       "Name: Race, dtype: int64"
      ]
     },
     "execution_count": 20,
     "metadata": {},
     "output_type": "execute_result"
    }
   ],
   "source": [
    "data['Race'].value_counts()\n"
   ]
  },
  {
   "cell_type": "code",
   "execution_count": 21,
   "id": "3403c398",
   "metadata": {},
   "outputs": [
    {
     "data": {
      "text/plain": [
       "45-54         80043\n",
       "55-64         75136\n",
       "35-44         55011\n",
       "25-34         49718\n",
       "65-74         41216\n",
       "19-24         24230\n",
       "75 or over    15226\n",
       "              12202\n",
       "13-18          7045\n",
       "7-12           1644\n",
       "3-6             838\n",
       "0-2             497\n",
       "Name: Age, dtype: int64"
      ]
     },
     "execution_count": 21,
     "metadata": {},
     "output_type": "execute_result"
    }
   ],
   "source": [
    "data['Age'].value_counts()\n"
   ]
  },
  {
   "cell_type": "code",
   "execution_count": 22,
   "id": "9d0d8d0c",
   "metadata": {},
   "outputs": [
    {
     "data": {
      "text/plain": [
       "10/29/2007    404\n",
       "10/30/2007    316\n",
       "10/28/2007    315\n",
       "3/15/2010     308\n",
       "3/16/2010     295\n",
       "             ... \n",
       "10/19/2019      2\n",
       "10/27/2019      1\n",
       "10/20/2019      1\n",
       "6/28/2019       1\n",
       "6/22/2019       1\n",
       "Name: Date, Length: 4524, dtype: int64"
      ]
     },
     "execution_count": 22,
     "metadata": {},
     "output_type": "execute_result"
    }
   ],
   "source": [
    "data['Date'].value_counts()\n"
   ]
  },
  {
   "cell_type": "code",
   "execution_count": 23,
   "id": "54d18dd2",
   "metadata": {},
   "outputs": [
    {
     "data": {
      "text/plain": [
       "cymbalta                               4648\n",
       "lisinopril                             4269\n",
       "lisinopril solution                    4269\n",
       "lexapro                                4134\n",
       "hydrocodone-acetaminophen              3944\n",
       "                                       ... \n",
       "sorbsan bandage                           1\n",
       "sorbsan topical wound dressing 3\" x       1\n",
       "q-pap extra strength                      1\n",
       "symax                                     1\n",
       "vanadium granules                         1\n",
       "Name: Drug, Length: 7093, dtype: int64"
      ]
     },
     "execution_count": 23,
     "metadata": {},
     "output_type": "execute_result"
    }
   ],
   "source": [
    "data['Drug'].value_counts()\n"
   ]
  },
  {
   "cell_type": "code",
   "execution_count": 24,
   "id": "3896b464",
   "metadata": {},
   "outputs": [
    {
     "data": {
      "text/plain": [
       "6873      8538\n",
       "1025      7868\n",
       "6007      7728\n",
       "4398      5864\n",
       "14208     5451\n",
       "          ... \n",
       "4118         1\n",
       "165948       1\n",
       "54215        1\n",
       "154021       1\n",
       "149247       1\n",
       "Name: DrugId, Length: 6572, dtype: int64"
      ]
     },
     "execution_count": 24,
     "metadata": {},
     "output_type": "execute_result"
    }
   ],
   "source": [
    "data['DrugId'].value_counts()\n"
   ]
  },
  {
   "cell_type": "code",
   "execution_count": 25,
   "id": "d5828c3c",
   "metadata": {},
   "outputs": [
    {
     "data": {
      "text/plain": [
       "5     192650\n",
       "4      74732\n",
       "3      41303\n",
       "1      35927\n",
       "2      18191\n",
       "6          2\n",
       "10         1\n",
       "Name: EaseofUse, dtype: int64"
      ]
     },
     "execution_count": 25,
     "metadata": {},
     "output_type": "execute_result"
    }
   ],
   "source": [
    "data['EaseofUse'].value_counts()\n"
   ]
  },
  {
   "cell_type": "code",
   "execution_count": 26,
   "id": "d7f990ed",
   "metadata": {},
   "outputs": [
    {
     "data": {
      "text/plain": [
       "5     130388\n",
       "4      81821\n",
       "3      60406\n",
       "1      59387\n",
       "2      30801\n",
       "6          2\n",
       "10         1\n",
       "Name: Effectiveness, dtype: int64"
      ]
     },
     "execution_count": 26,
     "metadata": {},
     "output_type": "execute_result"
    }
   ],
   "source": [
    "data['Effectiveness'].value_counts()\n"
   ]
  },
  {
   "cell_type": "code",
   "execution_count": 27,
   "id": "8ca4fec2",
   "metadata": {},
   "outputs": [
    {
     "data": {
      "text/plain": [
       "                                                                                                                                                                                                                                                                                                                                                                                                                                                                                                                                                                                                                                                                           41824\n",
       "good                                                                                                                                                                                                                                                                                                                                                                                                                                                                                                                                                                                                                                                                         183\n",
       "this treatment is awsome.  I love drugs.                                                                                                                                                                                                                                                                                                                                                                                                                                                                                                                                                                                                                                     172\n",
       "This drug is awesome.  I love drugs.                                                                                                                                                                                                                                                                                                                                                                                                                                                                                                                                                                                                                                         128\n",
       "No Script or health Insurance needed to place and order with 10% discount for all purchased. It was nice to have some from them, I just hit them at. WhatsApp only:+1(775)7735306,\\nCall/Text:+1(775)7735306,\\nWickr or Kik: peterking2014.\\nEmail: peterkings2014@gmail.com.\\nMessage code: (Med16) Discreet Delivery                                                                                                                                                                                                                                                                                                                                                        90\n",
       "                                                                                                                                                                                                                                                                                                                                                                                                                                                                                                                                                                                                                                                                           ...  \n",
       "OMG!! Is this shot painful or what!! Received Synvisc-one yesterday and almost passed out from the pain. Only one knee was causing me alot of problems and the other one was just starting to. Now, after receiving an injection in both knees, I am having to rely on crutches and pain meds. It feels like someone stuffed a rubber eraser under both my kneecaps. When is this nightmare going to get better? I was optimistic that relief would happen after I left the doctor's office. The only thing lighter was my check book. I think inject 6ml of thick gel is too much to do at one time. I'll have to give it some time before I EVER go thru this again.         1\n",
       "Just take it now for 3 weeks\\nFeel a little better but still had a little weightgain. muscle  hurting.But overall feel better.                                                                                                                                                                                                                                                                                                                                                                                                                                                                                                                                                 1\n",
       "This has been a miracle drug for.  Yes I gained some wieght, but it was well worth it.  For the first time in years, I am not suicidal and I don't have sickening thoughts.  This medication has helped my greatly.                                                                                                                                                                                                                                                                                                                                                                                                                                                            1\n",
       "worked quickly, got out of bed and had energy for first time in months.                                                                                                                                                                                                                                                                                                                                                                                                                                                                                                                                                                                                        1\n",
       "One year ago, I tried Chantix and had to stop taking it because I was so nauseous in the morning.  Three weeks ago I started it again and found that if I eat 10 minutes before taking the pill, I don't get nauseous at all.  I have been smoke free for two weeks and will never smoke again.                                                                                                                                                                                                                                                                                                                                                                                1\n",
       "Name: Reviews, Length: 250167, dtype: int64"
      ]
     },
     "execution_count": 27,
     "metadata": {},
     "output_type": "execute_result"
    }
   ],
   "source": [
    "data['Reviews'].value_counts()\n"
   ]
  },
  {
   "cell_type": "code",
   "execution_count": 28,
   "id": "6b21448d",
   "metadata": {},
   "outputs": [
    {
     "data": {
      "text/plain": [
       "5     111550\n",
       "1     100901\n",
       "4      63158\n",
       "3      51852\n",
       "2      35342\n",
       "6          2\n",
       "10         1\n",
       "Name: Satisfaction, dtype: int64"
      ]
     },
     "execution_count": 28,
     "metadata": {},
     "output_type": "execute_result"
    }
   ],
   "source": [
    "data['Satisfaction'].value_counts()\n"
   ]
  },
  {
   "cell_type": "code",
   "execution_count": 29,
   "id": "176bf694",
   "metadata": {},
   "outputs": [
    {
     "data": {
      "text/plain": [
       "Female    238226\n",
       "Male       98043\n",
       "           26537\n",
       "Name: Sex, dtype: int64"
      ]
     },
     "execution_count": 29,
     "metadata": {},
     "output_type": "execute_result"
    }
   ],
   "source": [
    "data['Sex'].value_counts()\n"
   ]
  },
  {
   "cell_type": "code",
   "execution_count": 30,
   "id": "a9a20563",
   "metadata": {},
   "outputs": [
    {
     "data": {
      "text/plain": [
       "                                                                                                                                                       17460\n",
       "Nausea ,  vomiting ,  constipation ,  lightheadedness ,  dizziness , or drowsiness may occur.                                                          15563\n",
       "Nausea ,  vomiting ,  headache ,  bloating ,  breast  tenderness, swelling of the  ankles /feet (fluid retention), or  weight  change may occur.       12116\n",
       "Dizziness ,  lightheadedness , tiredness, or  headache  may occur as your body adjusts to the  medication . Dry  cough  may also occur.                 9162\n",
       "Drowsiness,  dizziness , loss of coordination, tiredness, blurred/ double vision , unusual  eye  movements, or shaking (tremor) may occur.              7790\n",
       "                                                                                                                                                       ...  \n",
       "Nausea ,  vomiting ,  stomach / abdominal pain , gas,  diarrhea ,  weight loss ,  headache ,  muscle cramps ,  dizziness , or  weakness  may occur.        1\n",
       "Headache ,  nausea , chills, or fever may occur.                                                                                                           1\n",
       "Nausea ,  vomiting ,  diarrhea , abdominal/ stomach pain ,  cough ,  dizziness ,  headache , flushing, or loss of appetite may occur.                      1\n",
       "Mild  skin  burning, redness, and peeling of the treated area may occur as expected.                                                                       1\n",
       "Diarrhea ,  nausea , or  heartburn  may occur.                                                                                                             1\n",
       "Name: Sides, Length: 1651, dtype: int64"
      ]
     },
     "execution_count": 30,
     "metadata": {},
     "output_type": "execute_result"
    }
   ],
   "source": [
    "data['Sides'].value_counts()\n"
   ]
  },
  {
   "cell_type": "code",
   "execution_count": 31,
   "id": "46bbbd66",
   "metadata": {},
   "outputs": [
    {
     "data": {
      "text/plain": [
       "0      71608\n",
       "1      46240\n",
       "2      34701\n",
       "3      27307\n",
       "4      22862\n",
       "       ...  \n",
       "136        1\n",
       "178        1\n",
       "176        1\n",
       "169        1\n",
       "95         1\n",
       "Name: UsefulCount, Length: 148, dtype: int64"
      ]
     },
     "execution_count": 31,
     "metadata": {},
     "output_type": "execute_result"
    }
   ],
   "source": [
    "data['UsefulCount'].value_counts()\n"
   ]
  },
  {
   "cell_type": "code",
   "execution_count": 32,
   "id": "5ea53cb9",
   "metadata": {},
   "outputs": [
    {
     "data": {
      "text/plain": [
       "Other                                                  49765\n",
       "Pain                                                   25232\n",
       "High Blood Pressure                                    23275\n",
       "Depression                                             14509\n",
       "Birth Control                                          12253\n",
       "                                                       ...  \n",
       "Diagnostic Test for Myasthenia Gravis                      1\n",
       "Myelodysplastic Syndrome with 5q Deletion Gene Type        1\n",
       "Hunter Syndrome                                            1\n",
       "Increased Uric Acid due to Cancer Chemotherapy             1\n",
       "Adverse Effect of Benzodiazepine-Based Tranquilizer        1\n",
       "Name: Condition, Length: 1806, dtype: int64"
      ]
     },
     "execution_count": 32,
     "metadata": {},
     "output_type": "execute_result"
    }
   ],
   "source": [
    "data['Condition'].value_counts()\n"
   ]
  },
  {
   "cell_type": "code",
   "execution_count": 33,
   "id": "eba786a9",
   "metadata": {},
   "outputs": [
    {
     "data": {
      "text/plain": [
       "cymbalta                                               4648\n",
       "lisinopril                                             4269\n",
       "lisinopril solution                                    4269\n",
       "lexapro                                                4134\n",
       "hydrocodone-acetaminophen                              3944\n",
       "effexor xr                                             3486\n",
       "lyrica                                                 3069\n",
       "tramadol hcl er                                        2932\n",
       "tramadol hcl                                           2932\n",
       "zoloft                                                 2662\n",
       "prednisone tablet, delayed release (enteric coated)    2576\n",
       "prednisone concentrate                                 2576\n",
       "prednisone                                             2576\n",
       "seroquel                                               2446\n",
       "phentermine hcl                                        2367\n",
       "celexa                                                 2224\n",
       "topamax                                                2148\n",
       "topamax capsule, sprinkle                              2148\n",
       "trazodone hcl                                          2099\n",
       "neurontin capsule                                      2078\n",
       "Name: Drug, dtype: int64"
      ]
     },
     "execution_count": 33,
     "metadata": {},
     "output_type": "execute_result"
    }
   ],
   "source": [
    "data['Drug'].value_counts().head(20)\n"
   ]
  },
  {
   "cell_type": "markdown",
   "id": "61d51cf4",
   "metadata": {},
   "source": [
    "# Selection of drug: A particular drug named lyrica is selected in building a classification model to determine side effects"
   ]
  },
  {
   "cell_type": "code",
   "execution_count": 34,
   "id": "06cea3bb",
   "metadata": {},
   "outputs": [
    {
     "data": {
      "text/html": [
       "<div>\n",
       "<style scoped>\n",
       "    .dataframe tbody tr th:only-of-type {\n",
       "        vertical-align: middle;\n",
       "    }\n",
       "\n",
       "    .dataframe tbody tr th {\n",
       "        vertical-align: top;\n",
       "    }\n",
       "\n",
       "    .dataframe thead th {\n",
       "        text-align: right;\n",
       "    }\n",
       "</style>\n",
       "<table border=\"1\" class=\"dataframe\">\n",
       "  <thead>\n",
       "    <tr style=\"text-align: right;\">\n",
       "      <th></th>\n",
       "      <th>Name</th>\n",
       "      <th>Race</th>\n",
       "      <th>Age</th>\n",
       "      <th>Condition</th>\n",
       "      <th>Date</th>\n",
       "      <th>Drug</th>\n",
       "      <th>DrugId</th>\n",
       "      <th>EaseofUse</th>\n",
       "      <th>Effectiveness</th>\n",
       "      <th>Reviews</th>\n",
       "      <th>Satisfaction</th>\n",
       "      <th>Sex</th>\n",
       "      <th>Sides</th>\n",
       "      <th>UsefulCount</th>\n",
       "    </tr>\n",
       "  </thead>\n",
       "  <tbody>\n",
       "    <tr>\n",
       "      <th>184</th>\n",
       "      <td>Larry Rivera</td>\n",
       "      <td>Hispanic</td>\n",
       "      <td></td>\n",
       "      <td>Neuropathic Pain</td>\n",
       "      <td>2/29/2020</td>\n",
       "      <td>lyrica</td>\n",
       "      <td>93965</td>\n",
       "      <td>5</td>\n",
       "      <td>5</td>\n",
       "      <td>No Script or health Insurance needed to place ...</td>\n",
       "      <td>5</td>\n",
       "      <td></td>\n",
       "      <td>Drowsiness,  dizziness ,  dry mouth ,  constip...</td>\n",
       "      <td>12</td>\n",
       "    </tr>\n",
       "    <tr>\n",
       "      <th>185</th>\n",
       "      <td>Melissa Young</td>\n",
       "      <td>Asian</td>\n",
       "      <td></td>\n",
       "      <td>Nerve Pain after Herpes</td>\n",
       "      <td>2/24/2020</td>\n",
       "      <td>lyrica</td>\n",
       "      <td>93965</td>\n",
       "      <td>5</td>\n",
       "      <td>5</td>\n",
       "      <td>After using Lyrica for 3 weeks it really ly wo...</td>\n",
       "      <td>5</td>\n",
       "      <td>Male</td>\n",
       "      <td>Drowsiness,  dizziness ,  dry mouth ,  constip...</td>\n",
       "      <td>0</td>\n",
       "    </tr>\n",
       "    <tr>\n",
       "      <th>186</th>\n",
       "      <td>Sara Gomez</td>\n",
       "      <td>Hispanic</td>\n",
       "      <td>65-74</td>\n",
       "      <td>Neuropathic Pain</td>\n",
       "      <td>2/20/2020</td>\n",
       "      <td>lyrica</td>\n",
       "      <td>93965</td>\n",
       "      <td>5</td>\n",
       "      <td>5</td>\n",
       "      <td>During an excruciating bout of sciatica my doc...</td>\n",
       "      <td>5</td>\n",
       "      <td>Female</td>\n",
       "      <td>Drowsiness,  dizziness ,  dry mouth ,  constip...</td>\n",
       "      <td>0</td>\n",
       "    </tr>\n",
       "    <tr>\n",
       "      <th>187</th>\n",
       "      <td>Dennis Watts</td>\n",
       "      <td>Asian</td>\n",
       "      <td>19-24</td>\n",
       "      <td>Neuropathic Pain</td>\n",
       "      <td>12/8/2019</td>\n",
       "      <td>lyrica</td>\n",
       "      <td>93965</td>\n",
       "      <td>1</td>\n",
       "      <td>3</td>\n",
       "      <td>After being on Lyrica (pregabalin) for over tw...</td>\n",
       "      <td>1</td>\n",
       "      <td>Female</td>\n",
       "      <td>Drowsiness,  dizziness ,  dry mouth ,  constip...</td>\n",
       "      <td>14</td>\n",
       "    </tr>\n",
       "    <tr>\n",
       "      <th>188</th>\n",
       "      <td>Billy Zuniga</td>\n",
       "      <td>Hispanic</td>\n",
       "      <td>35-44</td>\n",
       "      <td>Neuropathic Pain</td>\n",
       "      <td>12/1/2019</td>\n",
       "      <td>lyrica</td>\n",
       "      <td>93965</td>\n",
       "      <td>5</td>\n",
       "      <td>5</td>\n",
       "      <td>I started taking Lyrica about six weeks ago. I...</td>\n",
       "      <td>5</td>\n",
       "      <td></td>\n",
       "      <td>Drowsiness,  dizziness ,  dry mouth ,  constip...</td>\n",
       "      <td>11</td>\n",
       "    </tr>\n",
       "  </tbody>\n",
       "</table>\n",
       "</div>"
      ],
      "text/plain": [
       "              Name      Race    Age                Condition       Date  \\\n",
       "184   Larry Rivera  Hispanic                Neuropathic Pain  2/29/2020   \n",
       "185  Melissa Young     Asian         Nerve Pain after Herpes  2/24/2020   \n",
       "186     Sara Gomez  Hispanic  65-74         Neuropathic Pain  2/20/2020   \n",
       "187   Dennis Watts     Asian  19-24         Neuropathic Pain  12/8/2019   \n",
       "188   Billy Zuniga  Hispanic  35-44         Neuropathic Pain  12/1/2019   \n",
       "\n",
       "       Drug  DrugId  EaseofUse  Effectiveness  \\\n",
       "184  lyrica   93965          5              5   \n",
       "185  lyrica   93965          5              5   \n",
       "186  lyrica   93965          5              5   \n",
       "187  lyrica   93965          1              3   \n",
       "188  lyrica   93965          5              5   \n",
       "\n",
       "                                               Reviews  Satisfaction     Sex  \\\n",
       "184  No Script or health Insurance needed to place ...             5           \n",
       "185  After using Lyrica for 3 weeks it really ly wo...             5    Male   \n",
       "186  During an excruciating bout of sciatica my doc...             5  Female   \n",
       "187  After being on Lyrica (pregabalin) for over tw...             1  Female   \n",
       "188  I started taking Lyrica about six weeks ago. I...             5           \n",
       "\n",
       "                                                 Sides  UsefulCount  \n",
       "184  Drowsiness,  dizziness ,  dry mouth ,  constip...           12  \n",
       "185  Drowsiness,  dizziness ,  dry mouth ,  constip...            0  \n",
       "186  Drowsiness,  dizziness ,  dry mouth ,  constip...            0  \n",
       "187  Drowsiness,  dizziness ,  dry mouth ,  constip...           14  \n",
       "188  Drowsiness,  dizziness ,  dry mouth ,  constip...           11  "
      ]
     },
     "execution_count": 34,
     "metadata": {},
     "output_type": "execute_result"
    }
   ],
   "source": [
    "drug_lyrica= data.loc[(data['Drug'] =='lyrica')]\n",
    "drug_lyrica.head(5)"
   ]
  },
  {
   "cell_type": "code",
   "execution_count": 35,
   "id": "dfcf4dd6",
   "metadata": {},
   "outputs": [
    {
     "data": {
      "text/plain": [
       "(3069, 14)"
      ]
     },
     "execution_count": 35,
     "metadata": {},
     "output_type": "execute_result"
    }
   ],
   "source": [
    "drug_lyrica.shape\n"
   ]
  },
  {
   "cell_type": "code",
   "execution_count": 36,
   "id": "add18487",
   "metadata": {},
   "outputs": [
    {
     "data": {
      "text/plain": [
       "Neuropathic Pain                                             1283\n",
       "Disorder characterized by Stiff, Tender & Painful Muscles     732\n",
       "Other                                                         713\n",
       "Diabetic Complication causing Injury to some Body Nerves      125\n",
       "Nerve Pain from Spinal Cord Injury                             91\n",
       "Nerve Pain after Herpes                                        64\n",
       "Additional Medication to Treat Partial Seizures                56\n",
       "Repeated Episodes of Anxiety                                    3\n",
       "Acute Pain Following an Operation                               2\n",
       "Name: Condition, dtype: int64"
      ]
     },
     "execution_count": 36,
     "metadata": {},
     "output_type": "execute_result"
    }
   ],
   "source": [
    "drug_lyrica['Condition'].value_counts()\n"
   ]
  },
  {
   "cell_type": "code",
   "execution_count": 37,
   "id": "e035d42e",
   "metadata": {},
   "outputs": [
    {
     "data": {
      "text/plain": [
       "3069"
      ]
     },
     "execution_count": 37,
     "metadata": {},
     "output_type": "execute_result"
    }
   ],
   "source": [
    "drug_lyrica['Condition'].value_counts().sum()\n"
   ]
  },
  {
   "cell_type": "code",
   "execution_count": 38,
   "id": "dd8620d2",
   "metadata": {},
   "outputs": [],
   "source": [
    "data_new = drug_lyrica.copy()\n"
   ]
  },
  {
   "cell_type": "code",
   "execution_count": 39,
   "id": "c7b3430b",
   "metadata": {},
   "outputs": [],
   "source": [
    "data_copy = data.copy()\n"
   ]
  },
  {
   "cell_type": "markdown",
   "id": "62b4ab65",
   "metadata": {},
   "source": [
    "# Data pre-processing\n"
   ]
  },
  {
   "cell_type": "markdown",
   "id": "a12d407a",
   "metadata": {},
   "source": [
    "# 1. Handling whitespaces\n"
   ]
  },
  {
   "cell_type": "code",
   "execution_count": 40,
   "id": "5ca74926",
   "metadata": {},
   "outputs": [
    {
     "data": {
      "text/html": [
       "<div>\n",
       "<style scoped>\n",
       "    .dataframe tbody tr th:only-of-type {\n",
       "        vertical-align: middle;\n",
       "    }\n",
       "\n",
       "    .dataframe tbody tr th {\n",
       "        vertical-align: top;\n",
       "    }\n",
       "\n",
       "    .dataframe thead th {\n",
       "        text-align: right;\n",
       "    }\n",
       "</style>\n",
       "<table border=\"1\" class=\"dataframe\">\n",
       "  <thead>\n",
       "    <tr style=\"text-align: right;\">\n",
       "      <th></th>\n",
       "      <th>Name</th>\n",
       "      <th>Race</th>\n",
       "      <th>Age</th>\n",
       "      <th>Condition</th>\n",
       "      <th>Date</th>\n",
       "      <th>Drug</th>\n",
       "      <th>DrugId</th>\n",
       "      <th>EaseofUse</th>\n",
       "      <th>Effectiveness</th>\n",
       "      <th>Reviews</th>\n",
       "      <th>Satisfaction</th>\n",
       "      <th>Sex</th>\n",
       "      <th>Sides</th>\n",
       "      <th>UsefulCount</th>\n",
       "    </tr>\n",
       "  </thead>\n",
       "  <tbody>\n",
       "    <tr>\n",
       "      <th>184</th>\n",
       "      <td>Larry Rivera</td>\n",
       "      <td>Hispanic</td>\n",
       "      <td>NaN</td>\n",
       "      <td>Neuropathic Pain</td>\n",
       "      <td>2/29/2020</td>\n",
       "      <td>lyrica</td>\n",
       "      <td>93965.0</td>\n",
       "      <td>5.0</td>\n",
       "      <td>5.0</td>\n",
       "      <td>No Script or health Insurance needed to place ...</td>\n",
       "      <td>5.0</td>\n",
       "      <td>NaN</td>\n",
       "      <td>Drowsiness,  dizziness ,  dry mouth ,  constip...</td>\n",
       "      <td>12.0</td>\n",
       "    </tr>\n",
       "    <tr>\n",
       "      <th>185</th>\n",
       "      <td>Melissa Young</td>\n",
       "      <td>Asian</td>\n",
       "      <td>NaN</td>\n",
       "      <td>Nerve Pain after Herpes</td>\n",
       "      <td>2/24/2020</td>\n",
       "      <td>lyrica</td>\n",
       "      <td>93965.0</td>\n",
       "      <td>5.0</td>\n",
       "      <td>5.0</td>\n",
       "      <td>After using Lyrica for 3 weeks it really ly wo...</td>\n",
       "      <td>5.0</td>\n",
       "      <td>Male</td>\n",
       "      <td>Drowsiness,  dizziness ,  dry mouth ,  constip...</td>\n",
       "      <td>0.0</td>\n",
       "    </tr>\n",
       "    <tr>\n",
       "      <th>186</th>\n",
       "      <td>Sara Gomez</td>\n",
       "      <td>Hispanic</td>\n",
       "      <td>65-74</td>\n",
       "      <td>Neuropathic Pain</td>\n",
       "      <td>2/20/2020</td>\n",
       "      <td>lyrica</td>\n",
       "      <td>93965.0</td>\n",
       "      <td>5.0</td>\n",
       "      <td>5.0</td>\n",
       "      <td>During an excruciating bout of sciatica my doc...</td>\n",
       "      <td>5.0</td>\n",
       "      <td>Female</td>\n",
       "      <td>Drowsiness,  dizziness ,  dry mouth ,  constip...</td>\n",
       "      <td>0.0</td>\n",
       "    </tr>\n",
       "    <tr>\n",
       "      <th>187</th>\n",
       "      <td>Dennis Watts</td>\n",
       "      <td>Asian</td>\n",
       "      <td>19-24</td>\n",
       "      <td>Neuropathic Pain</td>\n",
       "      <td>12/8/2019</td>\n",
       "      <td>lyrica</td>\n",
       "      <td>93965.0</td>\n",
       "      <td>1.0</td>\n",
       "      <td>3.0</td>\n",
       "      <td>After being on Lyrica (pregabalin) for over tw...</td>\n",
       "      <td>1.0</td>\n",
       "      <td>Female</td>\n",
       "      <td>Drowsiness,  dizziness ,  dry mouth ,  constip...</td>\n",
       "      <td>14.0</td>\n",
       "    </tr>\n",
       "    <tr>\n",
       "      <th>188</th>\n",
       "      <td>Billy Zuniga</td>\n",
       "      <td>Hispanic</td>\n",
       "      <td>35-44</td>\n",
       "      <td>Neuropathic Pain</td>\n",
       "      <td>12/1/2019</td>\n",
       "      <td>lyrica</td>\n",
       "      <td>93965.0</td>\n",
       "      <td>5.0</td>\n",
       "      <td>5.0</td>\n",
       "      <td>I started taking Lyrica about six weeks ago. I...</td>\n",
       "      <td>5.0</td>\n",
       "      <td>NaN</td>\n",
       "      <td>Drowsiness,  dizziness ,  dry mouth ,  constip...</td>\n",
       "      <td>11.0</td>\n",
       "    </tr>\n",
       "  </tbody>\n",
       "</table>\n",
       "</div>"
      ],
      "text/plain": [
       "              Name      Race    Age                Condition       Date  \\\n",
       "184   Larry Rivera  Hispanic    NaN         Neuropathic Pain  2/29/2020   \n",
       "185  Melissa Young     Asian    NaN  Nerve Pain after Herpes  2/24/2020   \n",
       "186     Sara Gomez  Hispanic  65-74         Neuropathic Pain  2/20/2020   \n",
       "187   Dennis Watts     Asian  19-24         Neuropathic Pain  12/8/2019   \n",
       "188   Billy Zuniga  Hispanic  35-44         Neuropathic Pain  12/1/2019   \n",
       "\n",
       "       Drug   DrugId  EaseofUse  Effectiveness  \\\n",
       "184  lyrica  93965.0        5.0            5.0   \n",
       "185  lyrica  93965.0        5.0            5.0   \n",
       "186  lyrica  93965.0        5.0            5.0   \n",
       "187  lyrica  93965.0        1.0            3.0   \n",
       "188  lyrica  93965.0        5.0            5.0   \n",
       "\n",
       "                                               Reviews  Satisfaction     Sex  \\\n",
       "184  No Script or health Insurance needed to place ...           5.0     NaN   \n",
       "185  After using Lyrica for 3 weeks it really ly wo...           5.0    Male   \n",
       "186  During an excruciating bout of sciatica my doc...           5.0  Female   \n",
       "187  After being on Lyrica (pregabalin) for over tw...           1.0  Female   \n",
       "188  I started taking Lyrica about six weeks ago. I...           5.0     NaN   \n",
       "\n",
       "                                                 Sides  UsefulCount  \n",
       "184  Drowsiness,  dizziness ,  dry mouth ,  constip...         12.0  \n",
       "185  Drowsiness,  dizziness ,  dry mouth ,  constip...          0.0  \n",
       "186  Drowsiness,  dizziness ,  dry mouth ,  constip...          0.0  \n",
       "187  Drowsiness,  dizziness ,  dry mouth ,  constip...         14.0  \n",
       "188  Drowsiness,  dizziness ,  dry mouth ,  constip...         11.0  "
      ]
     },
     "execution_count": 40,
     "metadata": {},
     "output_type": "execute_result"
    }
   ],
   "source": [
    "# Handling instances with whitespaces\n",
    "for i in data_new:\n",
    "    data_new[i]=np.where(data_new[i]==\" \",np.NAN,data_new[i])\n",
    "data_new.head()"
   ]
  },
  {
   "cell_type": "markdown",
   "id": "aafb5fe0",
   "metadata": {},
   "source": [
    "# 2. Missing values\n"
   ]
  },
  {
   "cell_type": "code",
   "execution_count": 41,
   "id": "b62deb05",
   "metadata": {},
   "outputs": [
    {
     "data": {
      "text/plain": [
       "Name               0\n",
       "Race               0\n",
       "Age               78\n",
       "Condition          0\n",
       "Date               0\n",
       "Drug               0\n",
       "DrugId             0\n",
       "EaseofUse          0\n",
       "Effectiveness      0\n",
       "Reviews          291\n",
       "Satisfaction       0\n",
       "Sex              150\n",
       "Sides              0\n",
       "UsefulCount        0\n",
       "dtype: int64"
      ]
     },
     "execution_count": 41,
     "metadata": {},
     "output_type": "execute_result"
    }
   ],
   "source": [
    "#checking missing values\n",
    "data_new.isnull().sum()"
   ]
  },
  {
   "cell_type": "code",
   "execution_count": 42,
   "id": "9bbd2b9b",
   "metadata": {},
   "outputs": [
    {
     "data": {
      "text/plain": [
       "(3069, 14)"
      ]
     },
     "execution_count": 42,
     "metadata": {},
     "output_type": "execute_result"
    }
   ],
   "source": [
    "data_new.shape\n"
   ]
  },
  {
   "cell_type": "markdown",
   "id": "e9dfabf9",
   "metadata": {},
   "source": [
    "# Bar plot showing the null value count of each feature\n"
   ]
  },
  {
   "cell_type": "code",
   "execution_count": 43,
   "id": "e65337f2",
   "metadata": {},
   "outputs": [
    {
     "data": {
      "text/plain": [
       "Text(0.5, 1.0, 'Total Missing Values')"
      ]
     },
     "execution_count": 43,
     "metadata": {},
     "output_type": "execute_result"
    },
    {
     "data": {
      "image/png": "[encoded data removed]",
      "text/plain": [
       "<Figure size 864x432 with 1 Axes>"
      ]
     },
     "metadata": {
      "needs_background": "light"
     },
     "output_type": "display_data"
    }
   ],
   "source": [
    "missing = (data_new.isnull().sum()).sort_values(ascending=False)\n",
    "missing.plot(kind=\"bar\", figsize = (12,6), fontsize = 10, color='violet')\n",
    "plt.xlabel(\"Columns\", fontsize = 20)\n",
    "plt.ylabel(\"\", fontsize = 20)\n",
    "plt.title(\"Total Missing Values\", fontsize = 20)"
   ]
  },
  {
   "cell_type": "code",
   "execution_count": 44,
   "id": "0e467d55",
   "metadata": {},
   "outputs": [],
   "source": [
    "# Removing rows with null data\n",
    "data_new=data_new.dropna(axis=0)"
   ]
  },
  {
   "cell_type": "code",
   "execution_count": 45,
   "id": "8dfe4fdd",
   "metadata": {},
   "outputs": [
    {
     "data": {
      "text/plain": [
       "Name             0\n",
       "Race             0\n",
       "Age              0\n",
       "Condition        0\n",
       "Date             0\n",
       "Drug             0\n",
       "DrugId           0\n",
       "EaseofUse        0\n",
       "Effectiveness    0\n",
       "Reviews          0\n",
       "Satisfaction     0\n",
       "Sex              0\n",
       "Sides            0\n",
       "UsefulCount      0\n",
       "dtype: int64"
      ]
     },
     "execution_count": 45,
     "metadata": {},
     "output_type": "execute_result"
    }
   ],
   "source": [
    "data_new.isnull().sum()\n"
   ]
  },
  {
   "cell_type": "code",
   "execution_count": 46,
   "id": "9a402c39",
   "metadata": {},
   "outputs": [
    {
     "data": {
      "text/plain": [
       "(2616, 14)"
      ]
     },
     "execution_count": 46,
     "metadata": {},
     "output_type": "execute_result"
    }
   ],
   "source": [
    "data_new.shape\n"
   ]
  },
  {
   "cell_type": "markdown",
   "id": "7c5db67e",
   "metadata": {},
   "source": [
    "# 3.Text processing\n"
   ]
  },
  {
   "cell_type": "code",
   "execution_count": 47,
   "id": "6d01a99d",
   "metadata": {},
   "outputs": [],
   "source": [
    "# converting rows having data other than string datatype into  string.\n",
    "for i in range(0,len(data_new)-1):\n",
    "    if type(data_new.iloc[i]['Sides']) != str:\n",
    "        data_new.iloc[i]['Sides'] = str(data_new.iloc[i]['Sides'])\n",
    "\n",
    "for i in range(0,len(data_new)-1):\n",
    "    if type(data_new.iloc[i]['Reviews']) != str:\n",
    "        data_new.iloc[i]['Reviews'] = str(data_new.iloc[i]['Reviews'])\n",
    "        \n",
    "for i in range(0,len(data_new)-1):\n",
    "    if type(data_new.iloc[i]['Condition']) != str:\n",
    "        data_new.iloc[i]['Condition'] = str(data_new.iloc[i]['Condition'])"
   ]
  },
  {
   "cell_type": "code",
   "execution_count": 48,
   "id": "87301b60",
   "metadata": {},
   "outputs": [],
   "source": [
    "import re\n",
    "def cleaning_text(i):\n",
    "    i = re.sub(\"[^A-Za-z\" \"]+\",\" \",i).lower()\n",
    "    i = re.sub(\"[0-9\" \"]+\",\" \",i)\n",
    "    i= re.sub(\"[\\W+\"\"]\", \" \",i)        \n",
    "    w = []\n",
    "    for word in i.split(\" \"):\n",
    "        if len(word)>3:\n",
    "            w.append(word)\n",
    "    return (\" \".join(w))"
   ]
  },
  {
   "cell_type": "markdown",
   "id": "5289618d",
   "metadata": {},
   "source": [
    "# 3.1 Sides\n"
   ]
  },
  {
   "cell_type": "code",
   "execution_count": 49,
   "id": "49cfa018",
   "metadata": {},
   "outputs": [
    {
     "data": {
      "text/plain": [
       "186     drowsiness dizziness mouth constipation diffic...\n",
       "187     drowsiness dizziness mouth constipation diffic...\n",
       "196     drowsiness dizziness mouth constipation diffic...\n",
       "197     drowsiness dizziness mouth constipation diffic...\n",
       "200     drowsiness dizziness mouth constipation diffic...\n",
       "                              ...                        \n",
       "3245    drowsiness dizziness mouth constipation diffic...\n",
       "3247    drowsiness dizziness mouth constipation diffic...\n",
       "3248    drowsiness dizziness mouth constipation diffic...\n",
       "3251    drowsiness dizziness mouth constipation diffic...\n",
       "3252    drowsiness dizziness mouth constipation diffic...\n",
       "Name: Sides, Length: 2616, dtype: object"
      ]
     },
     "execution_count": 49,
     "metadata": {},
     "output_type": "execute_result"
    }
   ],
   "source": [
    "data_new.Sides= data_new.Sides.apply(cleaning_text)\n",
    "data_new.Sides"
   ]
  },
  {
   "cell_type": "code",
   "execution_count": 50,
   "id": "73a23236",
   "metadata": {},
   "outputs": [
    {
     "name": "stderr",
     "output_type": "stream",
     "text": [
      "[nltk_data] Downloading package stopwords to\n",
      "[nltk_data]     C:\\Users\\Irin\\AppData\\Roaming\\nltk_data...\n",
      "[nltk_data]   Package stopwords is already up-to-date!\n"
     ]
    }
   ],
   "source": [
    "import nltk\n",
    "nltk.download('stopwords')\n",
    "from nltk.corpus import stopwords\n",
    "\n",
    "stop_words = stopwords.words('english')\n",
    "data_new['Sides'] = data_new['Sides'].apply(lambda x: ' '.join([word for word in x.split() if word not in (stop_words)]))"
   ]
  },
  {
   "cell_type": "code",
   "execution_count": 51,
   "id": "e6259f68",
   "metadata": {},
   "outputs": [
    {
     "data": {
      "text/plain": [
       "186     drowsiness dizziness mouth constipation diffic...\n",
       "187     drowsiness dizziness mouth constipation diffic...\n",
       "196     drowsiness dizziness mouth constipation diffic...\n",
       "197     drowsiness dizziness mouth constipation diffic...\n",
       "200     drowsiness dizziness mouth constipation diffic...\n",
       "                              ...                        \n",
       "3245    drowsiness dizziness mouth constipation diffic...\n",
       "3247    drowsiness dizziness mouth constipation diffic...\n",
       "3248    drowsiness dizziness mouth constipation diffic...\n",
       "3251    drowsiness dizziness mouth constipation diffic...\n",
       "3252    drowsiness dizziness mouth constipation diffic...\n",
       "Name: Sides, Length: 2616, dtype: object"
      ]
     },
     "execution_count": 51,
     "metadata": {},
     "output_type": "execute_result"
    }
   ],
   "source": [
    "data_new['Sides']\n"
   ]
  },
  {
   "cell_type": "markdown",
   "id": "98e375c7",
   "metadata": {},
   "source": [
    "# 3.2 Reviews\n"
   ]
  },
  {
   "cell_type": "code",
   "execution_count": 52,
   "id": "4e9c9151",
   "metadata": {},
   "outputs": [
    {
     "data": {
      "text/plain": [
       "186     during excruciating bout sciatica prescribed r...\n",
       "187     after being lyrica pregabalin over years exper...\n",
       "196     started acting strangely weight gain hallucina...\n",
       "197     when first prescribed excruciating pain back d...\n",
       "200     pain spread from joint back over body hips wri...\n",
       "                              ...                        \n",
       "3245    just recently diagnoised with fibromyalgia alr...\n",
       "3247    found that taken before allowed deep restorati...\n",
       "3248       seemed work well when first started medication\n",
       "3251    fibromyalgia life insurance just approved mont...\n",
       "3252    doctor prescribed lyrica fibromyalgia headache...\n",
       "Name: Reviews, Length: 2616, dtype: object"
      ]
     },
     "execution_count": 52,
     "metadata": {},
     "output_type": "execute_result"
    }
   ],
   "source": [
    "data_new.review= data_new.Reviews.apply(cleaning_text)\n",
    "data_new.review"
   ]
  },
  {
   "cell_type": "markdown",
   "id": "4bcbd58b",
   "metadata": {},
   "source": [
    "# Removing stopwords\n"
   ]
  },
  {
   "cell_type": "code",
   "execution_count": 53,
   "id": "3a292815",
   "metadata": {},
   "outputs": [
    {
     "name": "stderr",
     "output_type": "stream",
     "text": [
      "[nltk_data] Downloading package stopwords to\n",
      "[nltk_data]     C:\\Users\\Irin\\AppData\\Roaming\\nltk_data...\n",
      "[nltk_data]   Package stopwords is already up-to-date!\n"
     ]
    }
   ],
   "source": [
    "import nltk\n",
    "nltk.download('stopwords')\n",
    "from nltk.corpus import stopwords\n",
    "\n",
    "stop_words = stopwords.words('english')\n",
    "data_new['Reviews'] = data_new['Reviews'].apply(lambda x: ' '.join([word for word in x.split() if word not in (stop_words)]))"
   ]
  },
  {
   "cell_type": "code",
   "execution_count": 54,
   "id": "0b6512bb",
   "metadata": {},
   "outputs": [
    {
     "data": {
      "text/plain": [
       "186     During excruciating bout sciatica doc prescrib...\n",
       "187     After Lyrica (pregabalin) two years, I've expe...\n",
       "196     Started acting strangely,weight gain,hallucina...\n",
       "197     When first prescribed I excruciating pain back...\n",
       "200     My pain spread SI joint low back body, hips, w...\n",
       "                              ...                        \n",
       "3245    I recently diagnoised fibromyalgia, I already ...\n",
       "3247    I found 75mg taken bed allowed deep restorativ...\n",
       "3248       It seemed work well I first started medication\n",
       "3251    I've fibromyalgia life, insurance approved it....\n",
       "3252    My doctor prescribed Lyrica fibromyalgia, head...\n",
       "Name: Reviews, Length: 2616, dtype: object"
      ]
     },
     "execution_count": 54,
     "metadata": {},
     "output_type": "execute_result"
    }
   ],
   "source": [
    "data_new['Reviews']\n"
   ]
  },
  {
   "cell_type": "markdown",
   "id": "d20c0987",
   "metadata": {},
   "source": [
    "# 3.3 Condition\n"
   ]
  },
  {
   "cell_type": "code",
   "execution_count": 55,
   "id": "cf173ac6",
   "metadata": {},
   "outputs": [
    {
     "data": {
      "text/plain": [
       "186                                      neuropathic pain\n",
       "187                                      neuropathic pain\n",
       "196                                      neuropathic pain\n",
       "197                    nerve pain from spinal cord injury\n",
       "200                                      neuropathic pain\n",
       "                              ...                        \n",
       "3245    disorder characterized stiff tender painful mu...\n",
       "3247    disorder characterized stiff tender painful mu...\n",
       "3248                              nerve pain after herpes\n",
       "3251    disorder characterized stiff tender painful mu...\n",
       "3252    disorder characterized stiff tender painful mu...\n",
       "Name: Condition, Length: 2616, dtype: object"
      ]
     },
     "execution_count": 55,
     "metadata": {},
     "output_type": "execute_result"
    }
   ],
   "source": [
    "data_new.Condition=data_new.Condition.apply(cleaning_text)\n",
    "data_new.Condition"
   ]
  },
  {
   "cell_type": "markdown",
   "id": "c21cd71b",
   "metadata": {},
   "source": [
    "# 4. Gender\n"
   ]
  },
  {
   "cell_type": "code",
   "execution_count": 56,
   "id": "036fdc46",
   "metadata": {},
   "outputs": [
    {
     "data": {
      "text/plain": [
       "Female    2047\n",
       "Male       569\n",
       "Name: Sex, dtype: int64"
      ]
     },
     "execution_count": 56,
     "metadata": {},
     "output_type": "execute_result"
    }
   ],
   "source": [
    "data_new['Sex'].value_counts()\n"
   ]
  },
  {
   "cell_type": "markdown",
   "id": "0549282a",
   "metadata": {},
   "source": [
    "# 5.Handling age group\n"
   ]
  },
  {
   "cell_type": "code",
   "execution_count": 57,
   "id": "dc6859c1",
   "metadata": {},
   "outputs": [
    {
     "data": {
      "text/plain": [
       "45-54         777\n",
       "55-64         713\n",
       "35-44         492\n",
       "65-74         274\n",
       "25-34         200\n",
       "75 or over     95\n",
       "19-24          56\n",
       "13-18           9\n",
       "Name: Age, dtype: int64"
      ]
     },
     "execution_count": 57,
     "metadata": {},
     "output_type": "execute_result"
    }
   ],
   "source": [
    "data_new['Age'].value_counts()\n"
   ]
  },
  {
   "cell_type": "code",
   "execution_count": 58,
   "id": "56e29c22",
   "metadata": {},
   "outputs": [
    {
     "data": {
      "text/plain": [
       "array(['65-74', '19-24', '45-54', '55-64', '25-34', '35-44', '75 or over',\n",
       "       '13-18'], dtype=object)"
      ]
     },
     "execution_count": 58,
     "metadata": {},
     "output_type": "execute_result"
    }
   ],
   "source": [
    "data_new['Age'].unique()\n"
   ]
  },
  {
   "cell_type": "code",
   "execution_count": 59,
   "id": "56697c62",
   "metadata": {},
   "outputs": [],
   "source": [
    "data_new['Age']=data_new['Age'].str.replace('75 or over','75-100')\n"
   ]
  },
  {
   "cell_type": "code",
   "execution_count": 60,
   "id": "e55f2099",
   "metadata": {},
   "outputs": [
    {
     "data": {
      "text/plain": [
       "45-54     777\n",
       "55-64     713\n",
       "35-44     492\n",
       "65-74     274\n",
       "25-34     200\n",
       "75-100     95\n",
       "19-24      56\n",
       "13-18       9\n",
       "Name: Age, dtype: int64"
      ]
     },
     "execution_count": 60,
     "metadata": {},
     "output_type": "execute_result"
    }
   ],
   "source": [
    "data_new['Age'].value_counts()\n"
   ]
  },
  {
   "cell_type": "markdown",
   "id": "88317eeb",
   "metadata": {},
   "source": [
    "# 6.Outliers detection\n"
   ]
  },
  {
   "cell_type": "code",
   "execution_count": 61,
   "id": "fba784db",
   "metadata": {},
   "outputs": [
    {
     "data": {
      "image/png": "[encoded data removed]",
      "text/plain": [
       "<Figure size 720x432 with 4 Axes>"
      ]
     },
     "metadata": {
      "needs_background": "light"
     },
     "output_type": "display_data"
    }
   ],
   "source": [
    "plt.figure(figsize=(10,6))\n",
    "\n",
    "plt.subplot(2,2,1)\n",
    "plt.boxplot(data_new[\"EaseofUse\"])\n",
    "plt.title(\" Ease Of Use\")\n",
    "\n",
    "plt.subplot(2,2,2)\n",
    "plt.boxplot(data_new[\"Effectiveness\"])\n",
    "plt.title(\" Effectiveness\")\n",
    "\n",
    "plt.subplot(2,2,3)\n",
    "plt.boxplot(data_new[\"Satisfaction\"])\n",
    "plt.title(\" Satisfaction\")\n",
    "\n",
    "plt.subplot(2,2,4)\n",
    "plt.boxplot(data_new[\"UsefulCount\"])\n",
    "plt.title(\" Useful Count\")\n",
    "plt.show()\n"
   ]
  },
  {
   "cell_type": "markdown",
   "id": "c1ab0bdd",
   "metadata": {},
   "source": [
    "Outliers are present in EaseofUse and UsefulCount columns.\n",
    "\n"
   ]
  },
  {
   "cell_type": "markdown",
   "id": "d1f5eca5",
   "metadata": {},
   "source": [
    "# Removing outliers\n"
   ]
  },
  {
   "cell_type": "code",
   "execution_count": 62,
   "id": "d3554a58",
   "metadata": {},
   "outputs": [],
   "source": [
    "# define a function called 'outliers' which returns a list of outliers\n",
    "def outliers(df,ft):\n",
    "    Q1=df[ft].quantile(0.25)\n",
    "    Q3=df[ft].quantile(0.75)\n",
    "    IQR=Q3-Q1\n",
    "    lower=Q1-1.5*IQR\n",
    "    upper=Q3+1.5*IQR\n",
    "#create list to store indexes of outliers\n",
    "    ls= df.index[(df[ft]<lower) | (df[ft]>upper)]\n",
    "    return ls"
   ]
  },
  {
   "cell_type": "code",
   "execution_count": 63,
   "id": "635d6aa4",
   "metadata": {},
   "outputs": [
    {
     "data": {
      "text/plain": [
       "[230,\n",
       " 236,\n",
       " 237,\n",
       " 238,\n",
       " 252,\n",
       " 257,\n",
       " 258,\n",
       " 267,\n",
       " 268,\n",
       " 271,\n",
       " 291,\n",
       " 293,\n",
       " 296,\n",
       " 299,\n",
       " 564,\n",
       " 590,\n",
       " 593,\n",
       " 605,\n",
       " 614,\n",
       " 660,\n",
       " 661,\n",
       " 662,\n",
       " 664,\n",
       " 679,\n",
       " 785,\n",
       " 801,\n",
       " 817,\n",
       " 963,\n",
       " 966,\n",
       " 978,\n",
       " 979,\n",
       " 982,\n",
       " 986,\n",
       " 989,\n",
       " 990,\n",
       " 991,\n",
       " 996,\n",
       " 1001,\n",
       " 1006,\n",
       " 1007,\n",
       " 1008,\n",
       " 1022,\n",
       " 1023,\n",
       " 1028,\n",
       " 1032,\n",
       " 1042,\n",
       " 1052,\n",
       " 1061,\n",
       " 1070,\n",
       " 1113,\n",
       " 1123,\n",
       " 1149,\n",
       " 1152,\n",
       " 1173,\n",
       " 1177,\n",
       " 1181,\n",
       " 1198,\n",
       " 1289,\n",
       " 1291,\n",
       " 1296,\n",
       " 1420,\n",
       " 1422,\n",
       " 1424,\n",
       " 1448,\n",
       " 1453,\n",
       " 1490,\n",
       " 1500,\n",
       " 1507,\n",
       " 1534,\n",
       " 1574,\n",
       " 1727,\n",
       " 1731,\n",
       " 1763,\n",
       " 1764,\n",
       " 1769,\n",
       " 1776,\n",
       " 1825,\n",
       " 1827,\n",
       " 1833,\n",
       " 1870,\n",
       " 1881,\n",
       " 1894,\n",
       " 1907,\n",
       " 1926,\n",
       " 1943,\n",
       " 1951,\n",
       " 1952,\n",
       " 1953,\n",
       " 1963,\n",
       " 1989,\n",
       " 2010,\n",
       " 2026,\n",
       " 2161,\n",
       " 2189,\n",
       " 2199,\n",
       " 2286,\n",
       " 2304,\n",
       " 2348,\n",
       " 2398,\n",
       " 2447,\n",
       " 2459,\n",
       " 2463,\n",
       " 2465,\n",
       " 2472,\n",
       " 2478,\n",
       " 2498,\n",
       " 2501,\n",
       " 2511,\n",
       " 2514,\n",
       " 2519,\n",
       " 2561,\n",
       " 2656,\n",
       " 2827,\n",
       " 2877,\n",
       " 2904,\n",
       " 2928,\n",
       " 2979,\n",
       " 3128,\n",
       " 3135,\n",
       " 3162,\n",
       " 3187,\n",
       " 3189,\n",
       " 3205,\n",
       " 3221,\n",
       " 3236]"
      ]
     },
     "execution_count": 63,
     "metadata": {},
     "output_type": "execute_result"
    }
   ],
   "source": [
    "#create an empty list to store indexes from multiple columns\n",
    "index_list=[]\n",
    "for feature in ['UsefulCount', 'EaseofUse']:\n",
    "    index_list.extend(outliers(data_new,feature))\n",
    "index_list"
   ]
  },
  {
   "cell_type": "code",
   "execution_count": 64,
   "id": "d3ce9d04",
   "metadata": {},
   "outputs": [],
   "source": [
    "#define a function called 'remove' which returns a cleaned data without outliers\n",
    "def remove(df,ls):\n",
    "    ls=sorted(set(ls)) #to sort and remove multiple copies(to get unique)\n",
    "    df=df.drop(ls)\n",
    "    return df"
   ]
  },
  {
   "cell_type": "code",
   "execution_count": 65,
   "id": "ee8164f1",
   "metadata": {},
   "outputs": [
    {
     "data": {
      "text/plain": [
       "(2616, 14)"
      ]
     },
     "execution_count": 65,
     "metadata": {},
     "output_type": "execute_result"
    }
   ],
   "source": [
    "data_new.shape\n"
   ]
  },
  {
   "cell_type": "code",
   "execution_count": 66,
   "id": "a9e61cd3",
   "metadata": {},
   "outputs": [],
   "source": [
    "data_new=remove(data_new,index_list)\n"
   ]
  },
  {
   "cell_type": "code",
   "execution_count": 67,
   "id": "94c3f46b",
   "metadata": {},
   "outputs": [
    {
     "data": {
      "text/plain": [
       "(2491, 14)"
      ]
     },
     "execution_count": 67,
     "metadata": {},
     "output_type": "execute_result"
    }
   ],
   "source": [
    "data_new.shape\n"
   ]
  },
  {
   "cell_type": "markdown",
   "id": "afd7ed76",
   "metadata": {},
   "source": [
    "# UsefulCount and EasofUse columns post outliers removal\n"
   ]
  },
  {
   "cell_type": "code",
   "execution_count": 68,
   "id": "7b7e1796",
   "metadata": {},
   "outputs": [
    {
     "data": {
      "text/plain": [
       "Text(0.5, 1.0, 'Box plot of Useful Count')"
      ]
     },
     "execution_count": 68,
     "metadata": {},
     "output_type": "execute_result"
    },
    {
     "data": {
      "image/png": "[encoded data removed]",
      "text/plain": [
       "<Figure size 432x288 with 1 Axes>"
      ]
     },
     "metadata": {
      "needs_background": "light"
     },
     "output_type": "display_data"
    }
   ],
   "source": [
    "plt.boxplot(data_new[\"UsefulCount\"])\n",
    "plt.title('Box plot of Useful Count')"
   ]
  },
  {
   "cell_type": "code",
   "execution_count": 69,
   "id": "0705a2cf",
   "metadata": {},
   "outputs": [
    {
     "data": {
      "text/plain": [
       "Text(0.5, 1.0, 'Box plot of Ease Of Use')"
      ]
     },
     "execution_count": 69,
     "metadata": {},
     "output_type": "execute_result"
    },
    {
     "data": {
      "image/png": "[encoded data removed]",
      "text/plain": [
       "<Figure size 432x288 with 1 Axes>"
      ]
     },
     "metadata": {
      "needs_background": "light"
     },
     "output_type": "display_data"
    }
   ],
   "source": [
    "plt.boxplot(data_new[\"EaseofUse\"])\n",
    "plt.title('Box plot of Ease Of Use')"
   ]
  },
  {
   "cell_type": "markdown",
   "id": "51f15517",
   "metadata": {},
   "source": [
    "# Satisfaction column\n"
   ]
  },
  {
   "cell_type": "code",
   "execution_count": 70,
   "id": "f5eb1101",
   "metadata": {},
   "outputs": [
    {
     "data": {
      "text/plain": [
       "1.0    794\n",
       "5.0    616\n",
       "4.0    443\n",
       "3.0    374\n",
       "2.0    264\n",
       "Name: Satisfaction, dtype: int64"
      ]
     },
     "execution_count": 70,
     "metadata": {},
     "output_type": "execute_result"
    }
   ],
   "source": [
    "data_new['Satisfaction'].value_counts()\n"
   ]
  },
  {
   "cell_type": "code",
   "execution_count": 71,
   "id": "22e16a93",
   "metadata": {},
   "outputs": [
    {
     "data": {
      "text/html": [
       "<div>\n",
       "<style scoped>\n",
       "    .dataframe tbody tr th:only-of-type {\n",
       "        vertical-align: middle;\n",
       "    }\n",
       "\n",
       "    .dataframe tbody tr th {\n",
       "        vertical-align: top;\n",
       "    }\n",
       "\n",
       "    .dataframe thead th {\n",
       "        text-align: right;\n",
       "    }\n",
       "</style>\n",
       "<table border=\"1\" class=\"dataframe\">\n",
       "  <thead>\n",
       "    <tr style=\"text-align: right;\">\n",
       "      <th></th>\n",
       "      <th>Name</th>\n",
       "      <th>Race</th>\n",
       "      <th>Age</th>\n",
       "      <th>Condition</th>\n",
       "      <th>Date</th>\n",
       "      <th>Drug</th>\n",
       "      <th>DrugId</th>\n",
       "      <th>EaseofUse</th>\n",
       "      <th>Effectiveness</th>\n",
       "      <th>Reviews</th>\n",
       "      <th>Satisfaction</th>\n",
       "      <th>Sex</th>\n",
       "      <th>Sides</th>\n",
       "      <th>UsefulCount</th>\n",
       "    </tr>\n",
       "  </thead>\n",
       "  <tbody>\n",
       "    <tr>\n",
       "      <th>186</th>\n",
       "      <td>Sara Gomez</td>\n",
       "      <td>Hispanic</td>\n",
       "      <td>65-74</td>\n",
       "      <td>neuropathic pain</td>\n",
       "      <td>2/20/2020</td>\n",
       "      <td>lyrica</td>\n",
       "      <td>93965.0</td>\n",
       "      <td>5.0</td>\n",
       "      <td>5.0</td>\n",
       "      <td>During excruciating bout sciatica doc prescrib...</td>\n",
       "      <td>5.0</td>\n",
       "      <td>Female</td>\n",
       "      <td>drowsiness dizziness mouth constipation diffic...</td>\n",
       "      <td>0.0</td>\n",
       "    </tr>\n",
       "    <tr>\n",
       "      <th>211</th>\n",
       "      <td>Jordan Wall</td>\n",
       "      <td>Black</td>\n",
       "      <td>45-54</td>\n",
       "      <td>neuropathic pain</td>\n",
       "      <td>1/25/2018</td>\n",
       "      <td>lyrica</td>\n",
       "      <td>93965.0</td>\n",
       "      <td>5.0</td>\n",
       "      <td>5.0</td>\n",
       "      <td>Taking Lyrica 100mg 4/day, I suffered chronic ...</td>\n",
       "      <td>5.0</td>\n",
       "      <td>Female</td>\n",
       "      <td>drowsiness dizziness mouth constipation diffic...</td>\n",
       "      <td>20.0</td>\n",
       "    </tr>\n",
       "    <tr>\n",
       "      <th>213</th>\n",
       "      <td>Lindsey Farley</td>\n",
       "      <td>Hispanic</td>\n",
       "      <td>25-34</td>\n",
       "      <td>neuropathic pain</td>\n",
       "      <td>1/6/2018</td>\n",
       "      <td>lyrica</td>\n",
       "      <td>93965.0</td>\n",
       "      <td>3.0</td>\n",
       "      <td>5.0</td>\n",
       "      <td>I taking Lyrica little helps lesson pain perip...</td>\n",
       "      <td>5.0</td>\n",
       "      <td>Male</td>\n",
       "      <td>drowsiness dizziness mouth constipation diffic...</td>\n",
       "      <td>10.0</td>\n",
       "    </tr>\n",
       "    <tr>\n",
       "      <th>233</th>\n",
       "      <td>Jessica Howard</td>\n",
       "      <td>Hispanic</td>\n",
       "      <td>55-64</td>\n",
       "      <td>nerve pain from spinal cord injury</td>\n",
       "      <td>3/10/2017</td>\n",
       "      <td>lyrica</td>\n",
       "      <td>93965.0</td>\n",
       "      <td>5.0</td>\n",
       "      <td>4.0</td>\n",
       "      <td>I put courses Lyrica several times last years....</td>\n",
       "      <td>5.0</td>\n",
       "      <td>Female</td>\n",
       "      <td>drowsiness dizziness mouth constipation diffic...</td>\n",
       "      <td>4.0</td>\n",
       "    </tr>\n",
       "    <tr>\n",
       "      <th>265</th>\n",
       "      <td>Dawn Scott</td>\n",
       "      <td>Black</td>\n",
       "      <td>55-64</td>\n",
       "      <td>other</td>\n",
       "      <td>6/24/2016</td>\n",
       "      <td>lyrica</td>\n",
       "      <td>93965.0</td>\n",
       "      <td>5.0</td>\n",
       "      <td>5.0</td>\n",
       "      <td>I spinal stenosis sudden, nerves fire. After m...</td>\n",
       "      <td>5.0</td>\n",
       "      <td>Female</td>\n",
       "      <td>drowsiness dizziness mouth constipation diffic...</td>\n",
       "      <td>1.0</td>\n",
       "    </tr>\n",
       "    <tr>\n",
       "      <th>...</th>\n",
       "      <td>...</td>\n",
       "      <td>...</td>\n",
       "      <td>...</td>\n",
       "      <td>...</td>\n",
       "      <td>...</td>\n",
       "      <td>...</td>\n",
       "      <td>...</td>\n",
       "      <td>...</td>\n",
       "      <td>...</td>\n",
       "      <td>...</td>\n",
       "      <td>...</td>\n",
       "      <td>...</td>\n",
       "      <td>...</td>\n",
       "      <td>...</td>\n",
       "    </tr>\n",
       "    <tr>\n",
       "      <th>3224</th>\n",
       "      <td>Heather Lopez</td>\n",
       "      <td>White</td>\n",
       "      <td>45-54</td>\n",
       "      <td>neuropathic pain</td>\n",
       "      <td>12/8/2007</td>\n",
       "      <td>lyrica</td>\n",
       "      <td>93965.0</td>\n",
       "      <td>5.0</td>\n",
       "      <td>5.0</td>\n",
       "      <td>This drug made difference world pain feet. I e...</td>\n",
       "      <td>5.0</td>\n",
       "      <td>Female</td>\n",
       "      <td>drowsiness dizziness mouth constipation diffic...</td>\n",
       "      <td>7.0</td>\n",
       "    </tr>\n",
       "    <tr>\n",
       "      <th>3226</th>\n",
       "      <td>Robert Williams</td>\n",
       "      <td>Asian</td>\n",
       "      <td>75-100</td>\n",
       "      <td>nerve pain after herpes</td>\n",
       "      <td>12/8/2007</td>\n",
       "      <td>lyrica</td>\n",
       "      <td>93965.0</td>\n",
       "      <td>5.0</td>\n",
       "      <td>4.0</td>\n",
       "      <td>pleased treatment much less pain.</td>\n",
       "      <td>5.0</td>\n",
       "      <td>Female</td>\n",
       "      <td>drowsiness dizziness mouth constipation diffic...</td>\n",
       "      <td>3.0</td>\n",
       "    </tr>\n",
       "    <tr>\n",
       "      <th>3231</th>\n",
       "      <td>Courtney Davis</td>\n",
       "      <td>Black</td>\n",
       "      <td>35-44</td>\n",
       "      <td>disorder characterized stiff tender painful mu...</td>\n",
       "      <td>12/7/2007</td>\n",
       "      <td>lyrica</td>\n",
       "      <td>93965.0</td>\n",
       "      <td>4.0</td>\n",
       "      <td>4.0</td>\n",
       "      <td>I fibromyalgia. Before medication, I living st...</td>\n",
       "      <td>5.0</td>\n",
       "      <td>Female</td>\n",
       "      <td>drowsiness dizziness mouth constipation diffic...</td>\n",
       "      <td>19.0</td>\n",
       "    </tr>\n",
       "    <tr>\n",
       "      <th>3239</th>\n",
       "      <td>Morgan Rogers</td>\n",
       "      <td>Asian</td>\n",
       "      <td>35-44</td>\n",
       "      <td>neuropathic pain</td>\n",
       "      <td>12/5/2007</td>\n",
       "      <td>lyrica</td>\n",
       "      <td>93965.0</td>\n",
       "      <td>5.0</td>\n",
       "      <td>4.0</td>\n",
       "      <td>I nerve damage feet - painful. I use medicatio...</td>\n",
       "      <td>5.0</td>\n",
       "      <td>Female</td>\n",
       "      <td>drowsiness dizziness mouth constipation diffic...</td>\n",
       "      <td>7.0</td>\n",
       "    </tr>\n",
       "    <tr>\n",
       "      <th>3247</th>\n",
       "      <td>Jonathan Smith</td>\n",
       "      <td>Hispanic</td>\n",
       "      <td>45-54</td>\n",
       "      <td>disorder characterized stiff tender painful mu...</td>\n",
       "      <td>12/3/2007</td>\n",
       "      <td>lyrica</td>\n",
       "      <td>93965.0</td>\n",
       "      <td>5.0</td>\n",
       "      <td>5.0</td>\n",
       "      <td>I found 75mg taken bed allowed deep restorativ...</td>\n",
       "      <td>5.0</td>\n",
       "      <td>Female</td>\n",
       "      <td>drowsiness dizziness mouth constipation diffic...</td>\n",
       "      <td>19.0</td>\n",
       "    </tr>\n",
       "  </tbody>\n",
       "</table>\n",
       "<p>616 rows × 14 columns</p>\n",
       "</div>"
      ],
      "text/plain": [
       "                 Name      Race     Age  \\\n",
       "186        Sara Gomez  Hispanic   65-74   \n",
       "211       Jordan Wall     Black   45-54   \n",
       "213    Lindsey Farley  Hispanic   25-34   \n",
       "233    Jessica Howard  Hispanic   55-64   \n",
       "265        Dawn Scott     Black   55-64   \n",
       "...               ...       ...     ...   \n",
       "3224    Heather Lopez     White   45-54   \n",
       "3226  Robert Williams     Asian  75-100   \n",
       "3231   Courtney Davis     Black   35-44   \n",
       "3239    Morgan Rogers     Asian   35-44   \n",
       "3247   Jonathan Smith  Hispanic   45-54   \n",
       "\n",
       "                                              Condition       Date    Drug  \\\n",
       "186                                    neuropathic pain  2/20/2020  lyrica   \n",
       "211                                    neuropathic pain  1/25/2018  lyrica   \n",
       "213                                    neuropathic pain   1/6/2018  lyrica   \n",
       "233                  nerve pain from spinal cord injury  3/10/2017  lyrica   \n",
       "265                                               other  6/24/2016  lyrica   \n",
       "...                                                 ...        ...     ...   \n",
       "3224                                   neuropathic pain  12/8/2007  lyrica   \n",
       "3226                            nerve pain after herpes  12/8/2007  lyrica   \n",
       "3231  disorder characterized stiff tender painful mu...  12/7/2007  lyrica   \n",
       "3239                                   neuropathic pain  12/5/2007  lyrica   \n",
       "3247  disorder characterized stiff tender painful mu...  12/3/2007  lyrica   \n",
       "\n",
       "       DrugId  EaseofUse  Effectiveness  \\\n",
       "186   93965.0        5.0            5.0   \n",
       "211   93965.0        5.0            5.0   \n",
       "213   93965.0        3.0            5.0   \n",
       "233   93965.0        5.0            4.0   \n",
       "265   93965.0        5.0            5.0   \n",
       "...       ...        ...            ...   \n",
       "3224  93965.0        5.0            5.0   \n",
       "3226  93965.0        5.0            4.0   \n",
       "3231  93965.0        4.0            4.0   \n",
       "3239  93965.0        5.0            4.0   \n",
       "3247  93965.0        5.0            5.0   \n",
       "\n",
       "                                                Reviews  Satisfaction     Sex  \\\n",
       "186   During excruciating bout sciatica doc prescrib...           5.0  Female   \n",
       "211   Taking Lyrica 100mg 4/day, I suffered chronic ...           5.0  Female   \n",
       "213   I taking Lyrica little helps lesson pain perip...           5.0    Male   \n",
       "233   I put courses Lyrica several times last years....           5.0  Female   \n",
       "265   I spinal stenosis sudden, nerves fire. After m...           5.0  Female   \n",
       "...                                                 ...           ...     ...   \n",
       "3224  This drug made difference world pain feet. I e...           5.0  Female   \n",
       "3226                  pleased treatment much less pain.           5.0  Female   \n",
       "3231  I fibromyalgia. Before medication, I living st...           5.0  Female   \n",
       "3239  I nerve damage feet - painful. I use medicatio...           5.0  Female   \n",
       "3247  I found 75mg taken bed allowed deep restorativ...           5.0  Female   \n",
       "\n",
       "                                                  Sides  UsefulCount  \n",
       "186   drowsiness dizziness mouth constipation diffic...          0.0  \n",
       "211   drowsiness dizziness mouth constipation diffic...         20.0  \n",
       "213   drowsiness dizziness mouth constipation diffic...         10.0  \n",
       "233   drowsiness dizziness mouth constipation diffic...          4.0  \n",
       "265   drowsiness dizziness mouth constipation diffic...          1.0  \n",
       "...                                                 ...          ...  \n",
       "3224  drowsiness dizziness mouth constipation diffic...          7.0  \n",
       "3226  drowsiness dizziness mouth constipation diffic...          3.0  \n",
       "3231  drowsiness dizziness mouth constipation diffic...         19.0  \n",
       "3239  drowsiness dizziness mouth constipation diffic...          7.0  \n",
       "3247  drowsiness dizziness mouth constipation diffic...         19.0  \n",
       "\n",
       "[616 rows x 14 columns]"
      ]
     },
     "execution_count": 71,
     "metadata": {},
     "output_type": "execute_result"
    }
   ],
   "source": [
    "data_new[data_new['Satisfaction'] ==5]\n",
    "        \n"
   ]
  },
  {
   "cell_type": "markdown",
   "id": "9719efe7",
   "metadata": {},
   "source": [
    "# Deleting values equal to 5 from Satisfaction column\n"
   ]
  },
  {
   "cell_type": "code",
   "execution_count": 72,
   "id": "bcc55447",
   "metadata": {},
   "outputs": [
    {
     "data": {
      "text/html": [
       "<div>\n",
       "<style scoped>\n",
       "    .dataframe tbody tr th:only-of-type {\n",
       "        vertical-align: middle;\n",
       "    }\n",
       "\n",
       "    .dataframe tbody tr th {\n",
       "        vertical-align: top;\n",
       "    }\n",
       "\n",
       "    .dataframe thead th {\n",
       "        text-align: right;\n",
       "    }\n",
       "</style>\n",
       "<table border=\"1\" class=\"dataframe\">\n",
       "  <thead>\n",
       "    <tr style=\"text-align: right;\">\n",
       "      <th></th>\n",
       "      <th>Name</th>\n",
       "      <th>Race</th>\n",
       "      <th>Age</th>\n",
       "      <th>Condition</th>\n",
       "      <th>Date</th>\n",
       "      <th>Drug</th>\n",
       "      <th>DrugId</th>\n",
       "      <th>EaseofUse</th>\n",
       "      <th>Effectiveness</th>\n",
       "      <th>Reviews</th>\n",
       "      <th>Satisfaction</th>\n",
       "      <th>Sex</th>\n",
       "      <th>Sides</th>\n",
       "      <th>UsefulCount</th>\n",
       "    </tr>\n",
       "  </thead>\n",
       "  <tbody>\n",
       "  </tbody>\n",
       "</table>\n",
       "</div>"
      ],
      "text/plain": [
       "Empty DataFrame\n",
       "Columns: [Name, Race, Age, Condition, Date, Drug, DrugId, EaseofUse, Effectiveness, Reviews, Satisfaction, Sex, Sides, UsefulCount]\n",
       "Index: []"
      ]
     },
     "execution_count": 72,
     "metadata": {},
     "output_type": "execute_result"
    }
   ],
   "source": [
    "data_new.drop(labels = data_new[data_new['Satisfaction'] == 5].index, axis = 0, inplace = True)\n",
    "data_new[data_new['Satisfaction'] == 5]"
   ]
  },
  {
   "cell_type": "markdown",
   "id": "ecd71e31",
   "metadata": {},
   "source": [
    "# 7. Feature engineering\n"
   ]
  },
  {
   "cell_type": "raw",
   "id": "d2f6af6a",
   "metadata": {},
   "source": [
    "Creation of a new SideEffects column\n"
   ]
  },
  {
   "cell_type": "code",
   "execution_count": 73,
   "id": "8e47e839",
   "metadata": {},
   "outputs": [],
   "source": [
    "data1=np.where(data_new['Satisfaction'] == 1.0, \"Nil\", data_new['Satisfaction'])\n",
    "data1=np.where(data_new['Satisfaction'] == 2.0, \"Mild\",data1)\n",
    "data1=np.where(data_new['Satisfaction'] == 3.0, \"Moderate\", data1)\n",
    "data1=np.where(data_new['Satisfaction'] == 4.0, \"Severe\", data1)\n",
    "data1=np.where(data_new['Satisfaction'] == 5.0, \"Extreme\",data1)"
   ]
  },
  {
   "cell_type": "code",
   "execution_count": 74,
   "id": "7894e17f",
   "metadata": {},
   "outputs": [],
   "source": [
    "data_new['SideEffects']=data1\n"
   ]
  },
  {
   "cell_type": "raw",
   "id": "d0c6357e",
   "metadata": {},
   "source": [
    "Since DrugId is the same, dropping the column\n"
   ]
  },
  {
   "cell_type": "code",
   "execution_count": 75,
   "id": "2e711780",
   "metadata": {},
   "outputs": [],
   "source": [
    "data_new.drop(['Satisfaction','DrugId'], inplace=True, axis=1)\n"
   ]
  },
  {
   "cell_type": "code",
   "execution_count": 76,
   "id": "4c5c7083",
   "metadata": {},
   "outputs": [
    {
     "data": {
      "text/html": [
       "<div>\n",
       "<style scoped>\n",
       "    .dataframe tbody tr th:only-of-type {\n",
       "        vertical-align: middle;\n",
       "    }\n",
       "\n",
       "    .dataframe tbody tr th {\n",
       "        vertical-align: top;\n",
       "    }\n",
       "\n",
       "    .dataframe thead th {\n",
       "        text-align: right;\n",
       "    }\n",
       "</style>\n",
       "<table border=\"1\" class=\"dataframe\">\n",
       "  <thead>\n",
       "    <tr style=\"text-align: right;\">\n",
       "      <th></th>\n",
       "      <th>Name</th>\n",
       "      <th>Race</th>\n",
       "      <th>Age</th>\n",
       "      <th>Condition</th>\n",
       "      <th>Date</th>\n",
       "      <th>Drug</th>\n",
       "      <th>EaseofUse</th>\n",
       "      <th>Effectiveness</th>\n",
       "      <th>Reviews</th>\n",
       "      <th>Sex</th>\n",
       "      <th>Sides</th>\n",
       "      <th>UsefulCount</th>\n",
       "      <th>SideEffects</th>\n",
       "    </tr>\n",
       "  </thead>\n",
       "  <tbody>\n",
       "    <tr>\n",
       "      <th>187</th>\n",
       "      <td>Dennis Watts</td>\n",
       "      <td>Asian</td>\n",
       "      <td>19-24</td>\n",
       "      <td>neuropathic pain</td>\n",
       "      <td>12/8/2019</td>\n",
       "      <td>lyrica</td>\n",
       "      <td>1.0</td>\n",
       "      <td>3.0</td>\n",
       "      <td>After Lyrica (pregabalin) two years, I've expe...</td>\n",
       "      <td>Female</td>\n",
       "      <td>drowsiness dizziness mouth constipation diffic...</td>\n",
       "      <td>14.0</td>\n",
       "      <td>Nil</td>\n",
       "    </tr>\n",
       "    <tr>\n",
       "      <th>196</th>\n",
       "      <td>Randall Mills</td>\n",
       "      <td>Asian</td>\n",
       "      <td>45-54</td>\n",
       "      <td>neuropathic pain</td>\n",
       "      <td>5/8/2019</td>\n",
       "      <td>lyrica</td>\n",
       "      <td>1.0</td>\n",
       "      <td>5.0</td>\n",
       "      <td>Started acting strangely,weight gain,hallucina...</td>\n",
       "      <td>Female</td>\n",
       "      <td>drowsiness dizziness mouth constipation diffic...</td>\n",
       "      <td>18.0</td>\n",
       "      <td>Nil</td>\n",
       "    </tr>\n",
       "    <tr>\n",
       "      <th>197</th>\n",
       "      <td>Kelly Evans</td>\n",
       "      <td>Black</td>\n",
       "      <td>65-74</td>\n",
       "      <td>nerve pain from spinal cord injury</td>\n",
       "      <td>5/5/2019</td>\n",
       "      <td>lyrica</td>\n",
       "      <td>4.0</td>\n",
       "      <td>4.0</td>\n",
       "      <td>When first prescribed I excruciating pain back...</td>\n",
       "      <td>Female</td>\n",
       "      <td>drowsiness dizziness mouth constipation diffic...</td>\n",
       "      <td>0.0</td>\n",
       "      <td>Moderate</td>\n",
       "    </tr>\n",
       "    <tr>\n",
       "      <th>200</th>\n",
       "      <td>Jamie King</td>\n",
       "      <td>Hispanic</td>\n",
       "      <td>55-64</td>\n",
       "      <td>neuropathic pain</td>\n",
       "      <td>3/30/2019</td>\n",
       "      <td>lyrica</td>\n",
       "      <td>3.0</td>\n",
       "      <td>1.0</td>\n",
       "      <td>My pain spread SI joint low back body, hips, w...</td>\n",
       "      <td>Female</td>\n",
       "      <td>drowsiness dizziness mouth constipation diffic...</td>\n",
       "      <td>8.0</td>\n",
       "      <td>Nil</td>\n",
       "    </tr>\n",
       "    <tr>\n",
       "      <th>201</th>\n",
       "      <td>Linda Gonzalez</td>\n",
       "      <td>White</td>\n",
       "      <td>55-64</td>\n",
       "      <td>neuropathic pain</td>\n",
       "      <td>3/20/2019</td>\n",
       "      <td>lyrica</td>\n",
       "      <td>5.0</td>\n",
       "      <td>1.0</td>\n",
       "      <td>second day taking crap arms legs swelled like ...</td>\n",
       "      <td>Male</td>\n",
       "      <td>drowsiness dizziness mouth constipation diffic...</td>\n",
       "      <td>6.0</td>\n",
       "      <td>Nil</td>\n",
       "    </tr>\n",
       "  </tbody>\n",
       "</table>\n",
       "</div>"
      ],
      "text/plain": [
       "               Name      Race    Age                           Condition  \\\n",
       "187    Dennis Watts     Asian  19-24                    neuropathic pain   \n",
       "196   Randall Mills     Asian  45-54                    neuropathic pain   \n",
       "197     Kelly Evans     Black  65-74  nerve pain from spinal cord injury   \n",
       "200      Jamie King  Hispanic  55-64                    neuropathic pain   \n",
       "201  Linda Gonzalez     White  55-64                    neuropathic pain   \n",
       "\n",
       "          Date    Drug  EaseofUse  Effectiveness  \\\n",
       "187  12/8/2019  lyrica        1.0            3.0   \n",
       "196   5/8/2019  lyrica        1.0            5.0   \n",
       "197   5/5/2019  lyrica        4.0            4.0   \n",
       "200  3/30/2019  lyrica        3.0            1.0   \n",
       "201  3/20/2019  lyrica        5.0            1.0   \n",
       "\n",
       "                                               Reviews     Sex  \\\n",
       "187  After Lyrica (pregabalin) two years, I've expe...  Female   \n",
       "196  Started acting strangely,weight gain,hallucina...  Female   \n",
       "197  When first prescribed I excruciating pain back...  Female   \n",
       "200  My pain spread SI joint low back body, hips, w...  Female   \n",
       "201  second day taking crap arms legs swelled like ...    Male   \n",
       "\n",
       "                                                 Sides  UsefulCount  \\\n",
       "187  drowsiness dizziness mouth constipation diffic...         14.0   \n",
       "196  drowsiness dizziness mouth constipation diffic...         18.0   \n",
       "197  drowsiness dizziness mouth constipation diffic...          0.0   \n",
       "200  drowsiness dizziness mouth constipation diffic...          8.0   \n",
       "201  drowsiness dizziness mouth constipation diffic...          6.0   \n",
       "\n",
       "    SideEffects  \n",
       "187         Nil  \n",
       "196         Nil  \n",
       "197    Moderate  \n",
       "200         Nil  \n",
       "201         Nil  "
      ]
     },
     "execution_count": 76,
     "metadata": {},
     "output_type": "execute_result"
    }
   ],
   "source": [
    "data_new.head()\n"
   ]
  },
  {
   "cell_type": "code",
   "execution_count": 77,
   "id": "cbfe81aa",
   "metadata": {},
   "outputs": [],
   "source": [
    "#data_new.to_csv('drug_lyrica_eda.csv', index=False)\n"
   ]
  },
  {
   "cell_type": "code",
   "execution_count": 78,
   "id": "25bec341",
   "metadata": {},
   "outputs": [],
   "source": [
    "data_copy = data_new.copy()\n"
   ]
  },
  {
   "cell_type": "markdown",
   "id": "20655bc4",
   "metadata": {},
   "source": [
    "# 8. Feature reduction\n"
   ]
  },
  {
   "cell_type": "markdown",
   "id": "cb49e570",
   "metadata": {},
   "source": [
    "# Correlation analysis\n"
   ]
  },
  {
   "cell_type": "markdown",
   "id": "f61c628c",
   "metadata": {},
   "source": [
    "Correlation matrix is plotted to check the relationship between variables\n"
   ]
  },
  {
   "cell_type": "code",
   "execution_count": 79,
   "id": "0a1aa0ab",
   "metadata": {},
   "outputs": [
    {
     "data": {
      "text/plain": [
       "<AxesSubplot:>"
      ]
     },
     "execution_count": 79,
     "metadata": {},
     "output_type": "execute_result"
    },
    {
     "data": {
      "image/png": "[encoded data removed]",
      "text/plain": [
       "<Figure size 720x576 with 2 Axes>"
      ]
     },
     "metadata": {
      "needs_background": "light"
     },
     "output_type": "display_data"
    }
   ],
   "source": [
    "corrmatrix = data_new.corr()\n",
    "plt.figure(figsize=(10,8))\n",
    "sns.heatmap(corrmatrix,vmin=-0.4 , vmax=0.9, annot=True, cmap='YlGnBu' , linewidth=0.2)"
   ]
  },
  {
   "cell_type": "markdown",
   "id": "571c8afd",
   "metadata": {},
   "source": [
    "# Here, being common, dropped the Drug, Sides columns. The other columns such as Date, Name, Reviews and UsefulCount are also dropped since these doesn't deal with side effects of the drug.\n"
   ]
  },
  {
   "cell_type": "code",
   "execution_count": 80,
   "id": "574c7942",
   "metadata": {},
   "outputs": [
    {
     "data": {
      "text/html": [
       "<div>\n",
       "<style scoped>\n",
       "    .dataframe tbody tr th:only-of-type {\n",
       "        vertical-align: middle;\n",
       "    }\n",
       "\n",
       "    .dataframe tbody tr th {\n",
       "        vertical-align: top;\n",
       "    }\n",
       "\n",
       "    .dataframe thead th {\n",
       "        text-align: right;\n",
       "    }\n",
       "</style>\n",
       "<table border=\"1\" class=\"dataframe\">\n",
       "  <thead>\n",
       "    <tr style=\"text-align: right;\">\n",
       "      <th></th>\n",
       "      <th>Race</th>\n",
       "      <th>Age</th>\n",
       "      <th>Condition</th>\n",
       "      <th>EaseofUse</th>\n",
       "      <th>Effectiveness</th>\n",
       "      <th>Sex</th>\n",
       "      <th>SideEffects</th>\n",
       "    </tr>\n",
       "  </thead>\n",
       "  <tbody>\n",
       "    <tr>\n",
       "      <th>0</th>\n",
       "      <td>Asian</td>\n",
       "      <td>19-24</td>\n",
       "      <td>neuropathic pain</td>\n",
       "      <td>1.0</td>\n",
       "      <td>3.0</td>\n",
       "      <td>Female</td>\n",
       "      <td>Nil</td>\n",
       "    </tr>\n",
       "    <tr>\n",
       "      <th>1</th>\n",
       "      <td>Asian</td>\n",
       "      <td>45-54</td>\n",
       "      <td>neuropathic pain</td>\n",
       "      <td>1.0</td>\n",
       "      <td>5.0</td>\n",
       "      <td>Female</td>\n",
       "      <td>Nil</td>\n",
       "    </tr>\n",
       "    <tr>\n",
       "      <th>2</th>\n",
       "      <td>Black</td>\n",
       "      <td>65-74</td>\n",
       "      <td>nerve pain from spinal cord injury</td>\n",
       "      <td>4.0</td>\n",
       "      <td>4.0</td>\n",
       "      <td>Female</td>\n",
       "      <td>Moderate</td>\n",
       "    </tr>\n",
       "    <tr>\n",
       "      <th>3</th>\n",
       "      <td>Hispanic</td>\n",
       "      <td>55-64</td>\n",
       "      <td>neuropathic pain</td>\n",
       "      <td>3.0</td>\n",
       "      <td>1.0</td>\n",
       "      <td>Female</td>\n",
       "      <td>Nil</td>\n",
       "    </tr>\n",
       "    <tr>\n",
       "      <th>4</th>\n",
       "      <td>White</td>\n",
       "      <td>55-64</td>\n",
       "      <td>neuropathic pain</td>\n",
       "      <td>5.0</td>\n",
       "      <td>1.0</td>\n",
       "      <td>Male</td>\n",
       "      <td>Nil</td>\n",
       "    </tr>\n",
       "  </tbody>\n",
       "</table>\n",
       "</div>"
      ],
      "text/plain": [
       "       Race    Age                           Condition  EaseofUse  \\\n",
       "0     Asian  19-24                    neuropathic pain        1.0   \n",
       "1     Asian  45-54                    neuropathic pain        1.0   \n",
       "2     Black  65-74  nerve pain from spinal cord injury        4.0   \n",
       "3  Hispanic  55-64                    neuropathic pain        3.0   \n",
       "4     White  55-64                    neuropathic pain        5.0   \n",
       "\n",
       "   Effectiveness     Sex SideEffects  \n",
       "0            3.0  Female         Nil  \n",
       "1            5.0  Female         Nil  \n",
       "2            4.0  Female    Moderate  \n",
       "3            1.0  Female         Nil  \n",
       "4            1.0    Male         Nil  "
      ]
     },
     "execution_count": 80,
     "metadata": {},
     "output_type": "execute_result"
    }
   ],
   "source": [
    "data_new=data_new.drop(columns = ['Name','Drug','Date','Sides','Reviews','UsefulCount'],axis=1)\n",
    "data_new=data_new.reset_index(drop=True)\n",
    "data_new.head()"
   ]
  },
  {
   "cell_type": "markdown",
   "id": "f8964d79",
   "metadata": {},
   "source": [
    "data_new.shape\n"
   ]
  },
  {
   "cell_type": "markdown",
   "id": "e7de50b5",
   "metadata": {},
   "source": [
    "# 9. Encoding\n"
   ]
  },
  {
   "cell_type": "code",
   "execution_count": 82,
   "id": "895d87ad",
   "metadata": {},
   "outputs": [
    {
     "name": "stdout",
     "output_type": "stream",
     "text": [
      "<class 'pandas.core.frame.DataFrame'>\n",
      "RangeIndex: 1875 entries, 0 to 1874\n",
      "Data columns (total 7 columns):\n",
      " #   Column         Non-Null Count  Dtype   \n",
      "---  ------         --------------  -----   \n",
      " 0   Race           1875 non-null   category\n",
      " 1   Age            1875 non-null   category\n",
      " 2   Condition      1875 non-null   category\n",
      " 3   EaseofUse      1875 non-null   float64 \n",
      " 4   Effectiveness  1875 non-null   float64 \n",
      " 5   Sex            1875 non-null   category\n",
      " 6   SideEffects    1875 non-null   category\n",
      "dtypes: category(5), float64(2)\n",
      "memory usage: 39.8 KB\n"
     ]
    }
   ],
   "source": [
    "#Finding categorical columns and chnaging datatype\n",
    "for cl in data_new.select_dtypes(include = ['object']):\n",
    "    data_new[cl]=data_new[cl].astype('category')\n",
    "data_new.info()"
   ]
  },
  {
   "cell_type": "code",
   "execution_count": 83,
   "id": "9a1d94e2",
   "metadata": {},
   "outputs": [],
   "source": [
    "from sklearn.preprocessing import LabelEncoder\n",
    "label=LabelEncoder()"
   ]
  },
  {
   "cell_type": "code",
   "execution_count": 84,
   "id": "90e9793d",
   "metadata": {},
   "outputs": [
    {
     "name": "stdout",
     "output_type": "stream",
     "text": [
      "<class 'pandas.core.frame.DataFrame'>\n",
      "RangeIndex: 1875 entries, 0 to 1874\n",
      "Data columns (total 7 columns):\n",
      " #   Column         Non-Null Count  Dtype   \n",
      "---  ------         --------------  -----   \n",
      " 0   Race           1875 non-null   category\n",
      " 1   Age            1875 non-null   category\n",
      " 2   Condition      1875 non-null   category\n",
      " 3   EaseofUse      1875 non-null   float64 \n",
      " 4   Effectiveness  1875 non-null   float64 \n",
      " 5   Sex            1875 non-null   category\n",
      " 6   SideEffects    1875 non-null   category\n",
      "dtypes: category(5), float64(2)\n",
      "memory usage: 39.8 KB\n"
     ]
    }
   ],
   "source": [
    "data_new.info()\n"
   ]
  },
  {
   "cell_type": "code",
   "execution_count": 85,
   "id": "456b1adf",
   "metadata": {},
   "outputs": [
    {
     "data": {
      "text/plain": [
       "Index(['Race', 'Age', 'Condition', 'EaseofUse', 'Effectiveness', 'Sex',\n",
       "       'SideEffects'],\n",
       "      dtype='object')"
      ]
     },
     "execution_count": 85,
     "metadata": {},
     "output_type": "execute_result"
    }
   ],
   "source": [
    "data_new.columns\n"
   ]
  },
  {
   "cell_type": "code",
   "execution_count": 86,
   "id": "53a4d131",
   "metadata": {},
   "outputs": [
    {
     "data": {
      "text/html": [
       "<div>\n",
       "<style scoped>\n",
       "    .dataframe tbody tr th:only-of-type {\n",
       "        vertical-align: middle;\n",
       "    }\n",
       "\n",
       "    .dataframe tbody tr th {\n",
       "        vertical-align: top;\n",
       "    }\n",
       "\n",
       "    .dataframe thead th {\n",
       "        text-align: right;\n",
       "    }\n",
       "</style>\n",
       "<table border=\"1\" class=\"dataframe\">\n",
       "  <thead>\n",
       "    <tr style=\"text-align: right;\">\n",
       "      <th></th>\n",
       "      <th>Race</th>\n",
       "      <th>Age</th>\n",
       "      <th>Condition</th>\n",
       "      <th>EaseofUse</th>\n",
       "      <th>Effectiveness</th>\n",
       "      <th>Sex</th>\n",
       "      <th>SideEffects</th>\n",
       "    </tr>\n",
       "  </thead>\n",
       "  <tbody>\n",
       "    <tr>\n",
       "      <th>0</th>\n",
       "      <td>Asian</td>\n",
       "      <td>19-24</td>\n",
       "      <td>neuropathic pain</td>\n",
       "      <td>1.0</td>\n",
       "      <td>3.0</td>\n",
       "      <td>Female</td>\n",
       "      <td>Nil</td>\n",
       "    </tr>\n",
       "    <tr>\n",
       "      <th>1</th>\n",
       "      <td>Asian</td>\n",
       "      <td>45-54</td>\n",
       "      <td>neuropathic pain</td>\n",
       "      <td>1.0</td>\n",
       "      <td>5.0</td>\n",
       "      <td>Female</td>\n",
       "      <td>Nil</td>\n",
       "    </tr>\n",
       "    <tr>\n",
       "      <th>2</th>\n",
       "      <td>Black</td>\n",
       "      <td>65-74</td>\n",
       "      <td>nerve pain from spinal cord injury</td>\n",
       "      <td>4.0</td>\n",
       "      <td>4.0</td>\n",
       "      <td>Female</td>\n",
       "      <td>Moderate</td>\n",
       "    </tr>\n",
       "    <tr>\n",
       "      <th>3</th>\n",
       "      <td>Hispanic</td>\n",
       "      <td>55-64</td>\n",
       "      <td>neuropathic pain</td>\n",
       "      <td>3.0</td>\n",
       "      <td>1.0</td>\n",
       "      <td>Female</td>\n",
       "      <td>Nil</td>\n",
       "    </tr>\n",
       "    <tr>\n",
       "      <th>4</th>\n",
       "      <td>White</td>\n",
       "      <td>55-64</td>\n",
       "      <td>neuropathic pain</td>\n",
       "      <td>5.0</td>\n",
       "      <td>1.0</td>\n",
       "      <td>Male</td>\n",
       "      <td>Nil</td>\n",
       "    </tr>\n",
       "  </tbody>\n",
       "</table>\n",
       "</div>"
      ],
      "text/plain": [
       "       Race    Age                           Condition  EaseofUse  \\\n",
       "0     Asian  19-24                    neuropathic pain        1.0   \n",
       "1     Asian  45-54                    neuropathic pain        1.0   \n",
       "2     Black  65-74  nerve pain from spinal cord injury        4.0   \n",
       "3  Hispanic  55-64                    neuropathic pain        3.0   \n",
       "4     White  55-64                    neuropathic pain        5.0   \n",
       "\n",
       "   Effectiveness     Sex SideEffects  \n",
       "0            3.0  Female         Nil  \n",
       "1            5.0  Female         Nil  \n",
       "2            4.0  Female    Moderate  \n",
       "3            1.0  Female         Nil  \n",
       "4            1.0    Male         Nil  "
      ]
     },
     "execution_count": 86,
     "metadata": {},
     "output_type": "execute_result"
    }
   ],
   "source": [
    "data_new.head()\n"
   ]
  },
  {
   "cell_type": "code",
   "execution_count": 87,
   "id": "f2369275",
   "metadata": {},
   "outputs": [],
   "source": [
    "from sklearn.preprocessing import LabelEncoder\n",
    "label=LabelEncoder()\n",
    "#for col in ['SideEffects', 'Drug','Age','Sex']:\n",
    "for col in ['Race','Age','Sex','Condition','SideEffects']:   \n",
    "    data_new[col]=label.fit_transform((data_new[col]).astype(str))\n",
    "    \n",
    "data_label=data_new"
   ]
  },
  {
   "cell_type": "code",
   "execution_count": 88,
   "id": "8fd001bf",
   "metadata": {},
   "outputs": [],
   "source": [
    "#data_new.to_csv('drug_lyrica_modelling.csv', index=False)\n"
   ]
  },
  {
   "cell_type": "code",
   "execution_count": 89,
   "id": "29147555",
   "metadata": {},
   "outputs": [],
   "source": [
    "data_model = data_new.copy()\n"
   ]
  },
  {
   "cell_type": "markdown",
   "id": "a92766b9",
   "metadata": {},
   "source": [
    "# Exploratory Data Analysis\n"
   ]
  },
  {
   "cell_type": "markdown",
   "id": "8a7ba1c1",
   "metadata": {},
   "source": [
    "# 1. Top 20 Drugs\n"
   ]
  },
  {
   "cell_type": "code",
   "execution_count": 90,
   "id": "1f1c03e5",
   "metadata": {},
   "outputs": [
    {
     "data": {
      "image/png": "[encoded data removed]",
      "text/plain": [
       "<Figure size 432x288 with 1 Axes>"
      ]
     },
     "metadata": {
      "needs_background": "light"
     },
     "output_type": "display_data"
    }
   ],
   "source": [
    "data1= data['Drug'].value_counts().head(20).reset_index()\n",
    "data1.columns = ['Drug', 'Users']\n",
    "sns.barplot(data=data1, x = 'Drug', y = 'Users')\n",
    "plt.suptitle(\"Top 20 Drugs\")\n",
    "plt.xticks(rotation=90,fontsize=10)\n",
    "plt.show()"
   ]
  },
  {
   "cell_type": "markdown",
   "id": "7a3fbc9b",
   "metadata": {},
   "source": [
    "Of over 7000 drugs, twenty features here each with minimum users above 2250. Of all, Cymbalta leads the pack with the maximum number of users."
   ]
  },
  {
   "cell_type": "markdown",
   "id": "c5f84fa3",
   "metadata": {},
   "source": [
    "# 2. Top 20 Conditions\n"
   ]
  },
  {
   "cell_type": "code",
   "execution_count": 91,
   "id": "1706a285",
   "metadata": {},
   "outputs": [
    {
     "data": {
      "text/plain": [
       "Text(0, 0.5, 'Users')"
      ]
     },
     "execution_count": 91,
     "metadata": {},
     "output_type": "execute_result"
    },
    {
     "data": {
      "image/png": "[encoded data removed]",
      "text/plain": [
       "<Figure size 576x576 with 1 Axes>"
      ]
     },
     "metadata": {
      "needs_background": "light"
     },
     "output_type": "display_data"
    }
   ],
   "source": [
    "data['Condition'].value_counts().nlargest(20).plot(kind='bar',figsize=(8,8))\n",
    "plt.suptitle(\"Top 20 Conditions\")\n",
    "plt.xlabel('Conditions')\n",
    "plt.ylabel('Users')"
   ]
  },
  {
   "cell_type": "markdown",
   "id": "4b567e8a",
   "metadata": {},
   "source": [
    "Of 1806 Conditions, Other Conditions tops the chart followed respectively by Pain and High Blood Pressure.\n",
    "The above being interpretation of the generic data, in line with the objective of project, will move ahead selecting a particular drug Topamax, one featuring in the top 20"
   ]
  },
  {
   "cell_type": "markdown",
   "id": "abfc1c35",
   "metadata": {},
   "source": [
    "# 3. Conditions - lyrica\n"
   ]
  },
  {
   "cell_type": "code",
   "execution_count": 92,
   "id": "884fbbc0",
   "metadata": {},
   "outputs": [
    {
     "data": {
      "text/plain": [
       "Text(0, 0.5, 'Count')"
      ]
     },
     "execution_count": 92,
     "metadata": {},
     "output_type": "execute_result"
    },
    {
     "data": {
      "image/png": "[encoded data removed]",
      "text/plain": [
       "<Figure size 576x576 with 1 Axes>"
      ]
     },
     "metadata": {
      "needs_background": "light"
     },
     "output_type": "display_data"
    }
   ],
   "source": [
    "drug_lyrica['Condition'].value_counts().nlargest(12).plot(kind='bar',figsize=(8,8))\n",
    "plt.suptitle(\"lyrica Conditions\")\n",
    "plt.xlabel('Condition')\n",
    "plt.ylabel('Count')"
   ]
  },
  {
   "cell_type": "markdown",
   "id": "77eea1a0",
   "metadata": {},
   "source": [
    "# 4. Users by Gender - lyrica\n"
   ]
  },
  {
   "cell_type": "code",
   "execution_count": 93,
   "id": "ab8395d8",
   "metadata": {},
   "outputs": [
    {
     "data": {
      "image/png": "[encoded data removed]",
      "text/plain": [
       "<Figure size 288x288 with 1 Axes>"
      ]
     },
     "metadata": {
      "needs_background": "light"
     },
     "output_type": "display_data"
    }
   ],
   "source": [
    "plt.figure(figsize = (4,4))\n",
    "s=sns.countplot(x='Sex', data=data_copy)\n",
    "plt.title('Users by Gender', fontsize=15)\n",
    "plt.xlabel('Sex')\n",
    "plt.ylabel('Count') \n",
    "plt.show()"
   ]
  },
  {
   "cell_type": "markdown",
   "id": "1dc57ebd",
   "metadata": {},
   "source": [
    "# 5. Users by Race -lyrica\n"
   ]
  },
  {
   "cell_type": "code",
   "execution_count": 94,
   "id": "ee64c5d8",
   "metadata": {},
   "outputs": [
    {
     "data": {
      "text/plain": [
       "Text(0, 0.5, 'Count')"
      ]
     },
     "execution_count": 94,
     "metadata": {},
     "output_type": "execute_result"
    },
    {
     "data": {
      "image/png": "[encoded data removed]",
      "text/plain": [
       "<Figure size 432x288 with 1 Axes>"
      ]
     },
     "metadata": {
      "needs_background": "light"
     },
     "output_type": "display_data"
    }
   ],
   "source": [
    "data_copy['Race'].value_counts().plot(kind='bar')\n",
    "plt.title(\"Race\", fontsize = 10)\n",
    "plt.xlabel(\"Race\", fontsize = 10)\n",
    "plt.ylabel(\"Count\", fontsize = 10)"
   ]
  },
  {
   "cell_type": "markdown",
   "id": "e2127859",
   "metadata": {},
   "source": [
    "# 6. Users by Race and Gender\n"
   ]
  },
  {
   "cell_type": "code",
   "execution_count": 95,
   "id": "539c7b92",
   "metadata": {},
   "outputs": [
    {
     "data": {
      "text/plain": [
       "Text(0.5, 1.0, 'Users by Race and Gender')"
      ]
     },
     "execution_count": 95,
     "metadata": {},
     "output_type": "execute_result"
    },
    {
     "data": {
      "image/png": "[encoded data removed]",
      "text/plain": [
       "<Figure size 432x288 with 1 Axes>"
      ]
     },
     "metadata": {
      "needs_background": "light"
     },
     "output_type": "display_data"
    }
   ],
   "source": [
    "sns.countplot(x='Race',hue='Sex',data=data_copy)\n",
    "plt.title(\"Users by Race and Gender\", fontsize = 10)"
   ]
  },
  {
   "cell_type": "markdown",
   "id": "581458d9",
   "metadata": {},
   "source": [
    "# 7. Users by Age and Gender\n"
   ]
  },
  {
   "cell_type": "code",
   "execution_count": 96,
   "id": "d8852ed8",
   "metadata": {},
   "outputs": [
    {
     "data": {
      "text/plain": [
       "Text(0.5, 1.0, 'Users by Age and Gender')"
      ]
     },
     "execution_count": 96,
     "metadata": {},
     "output_type": "execute_result"
    },
    {
     "data": {
      "image/png": "[encoded data removed]",
      "text/plain": [
       "<Figure size 720x432 with 1 Axes>"
      ]
     },
     "metadata": {
      "needs_background": "light"
     },
     "output_type": "display_data"
    }
   ],
   "source": [
    "plt.figure(figsize=(10, 6))\n",
    "sns.countplot(x='Age',hue='Sex',data=data_copy)\n",
    "plt.title(\"Users by Age and Gender\", fontsize = 10)"
   ]
  },
  {
   "cell_type": "markdown",
   "id": "85c69ab2",
   "metadata": {},
   "source": [
    "# 8. Correlation Heatmap\n"
   ]
  },
  {
   "cell_type": "code",
   "execution_count": 97,
   "id": "046ca3d5",
   "metadata": {},
   "outputs": [
    {
     "data": {
      "text/plain": [
       "<AxesSubplot:>"
      ]
     },
     "execution_count": 97,
     "metadata": {},
     "output_type": "execute_result"
    },
    {
     "data": {
      "image/png": "[encoded data removed]",
      "text/plain": [
       "<Figure size 576x432 with 2 Axes>"
      ]
     },
     "metadata": {
      "needs_background": "light"
     },
     "output_type": "display_data"
    }
   ],
   "source": [
    "# heatmap of the data for checking the correlation\n",
    "corrmatrix = data_copy.corr()\n",
    "plt.figure(figsize=(8,6))\n",
    "sns.heatmap(corrmatrix,vmin=-0.4 , vmax=0.9, annot=True, cmap='YlGnBu' , linewidth=0.2)\n"
   ]
  },
  {
   "cell_type": "markdown",
   "id": "9e2293db",
   "metadata": {},
   "source": [
    "# 9. Yearly Reviews - lyrica\n"
   ]
  },
  {
   "cell_type": "code",
   "execution_count": 98,
   "id": "01c204ca",
   "metadata": {},
   "outputs": [],
   "source": [
    "data_copy['Date'] = pd.to_datetime(data_copy['Date'], errors = 'coerce')\n"
   ]
  },
  {
   "cell_type": "code",
   "execution_count": 99,
   "id": "4dbe9dd5",
   "metadata": {},
   "outputs": [],
   "source": [
    "#extracting year from Date\n",
    "data_copy['Year'] = data_copy['Date'].dt.year"
   ]
  },
  {
   "cell_type": "code",
   "execution_count": 100,
   "id": "a3c0ce88",
   "metadata": {},
   "outputs": [
    {
     "data": {
      "image/png": "[encoded data removed]",
      "text/plain": [
       "<Figure size 720x288 with 1 Axes>"
      ]
     },
     "metadata": {
      "needs_background": "light"
     },
     "output_type": "display_data"
    }
   ],
   "source": [
    "plt.figure(figsize=(10,4))\n",
    "sns.countplot(data_copy['Year'], palette ='colorblind')\n",
    "plt.title('Number of yearly reviews', fontsize = 15)\n",
    "plt.xlabel('Year', fontsize = 15)\n",
    "plt.ylabel('Count of Reviews', fontsize = 15)\n",
    "plt.show()"
   ]
  },
  {
   "cell_type": "markdown",
   "id": "48d13b30",
   "metadata": {},
   "source": [
    "# 10. Effectiveness\n"
   ]
  },
  {
   "cell_type": "code",
   "execution_count": 101,
   "id": "fb63ca23",
   "metadata": {},
   "outputs": [
    {
     "data": {
      "text/plain": [
       "Text(0, 0.5, 'Count')"
      ]
     },
     "execution_count": 101,
     "metadata": {},
     "output_type": "execute_result"
    },
    {
     "data": {
      "image/png": "[encoded data removed]",
      "text/plain": [
       "<Figure size 432x288 with 1 Axes>"
      ]
     },
     "metadata": {
      "needs_background": "light"
     },
     "output_type": "display_data"
    }
   ],
   "source": [
    "data_copy['Effectiveness'].value_counts().plot(kind='bar')\n",
    "plt.title(\"Effectiveness\", fontsize = 10)\n",
    "plt.xlabel(\"Effectiveness\", fontsize = 10)\n",
    "plt.ylabel(\"Count\", fontsize = 10)"
   ]
  },
  {
   "cell_type": "markdown",
   "id": "61489533",
   "metadata": {},
   "source": [
    "# Splitting the data\n"
   ]
  },
  {
   "cell_type": "code",
   "execution_count": 102,
   "id": "6a3d9634",
   "metadata": {},
   "outputs": [],
   "source": [
    "#target\n",
    "y = data_new['SideEffects']"
   ]
  },
  {
   "cell_type": "code",
   "execution_count": 103,
   "id": "5215c51c",
   "metadata": {},
   "outputs": [],
   "source": [
    "X = data_new.drop(['SideEffects'],axis=1)\n"
   ]
  },
  {
   "cell_type": "code",
   "execution_count": 104,
   "id": "ecfd2845",
   "metadata": {},
   "outputs": [
    {
     "data": {
      "text/plain": [
       "(1875, 6)"
      ]
     },
     "execution_count": 104,
     "metadata": {},
     "output_type": "execute_result"
    }
   ],
   "source": [
    "X.shape\n"
   ]
  },
  {
   "cell_type": "markdown",
   "id": "f49b6627",
   "metadata": {},
   "source": [
    "# Splitting the dataset into train and test sets\n"
   ]
  },
  {
   "cell_type": "code",
   "execution_count": 105,
   "id": "137eb43d",
   "metadata": {},
   "outputs": [
    {
     "data": {
      "text/plain": [
       "(1500, 6)"
      ]
     },
     "execution_count": 105,
     "metadata": {},
     "output_type": "execute_result"
    }
   ],
   "source": [
    "from sklearn.model_selection import train_test_split\n",
    "X_train,X_test,y_train,y_test = train_test_split(X,y, random_state=42,test_size=0.2)#assigninng values\n",
    "X_train.shape"
   ]
  },
  {
   "cell_type": "code",
   "execution_count": 106,
   "id": "d4903570",
   "metadata": {},
   "outputs": [
    {
     "data": {
      "text/plain": [
       "(375, 6)"
      ]
     },
     "execution_count": 106,
     "metadata": {},
     "output_type": "execute_result"
    }
   ],
   "source": [
    "X_test.shape\n"
   ]
  },
  {
   "cell_type": "code",
   "execution_count": 107,
   "id": "471125fe",
   "metadata": {},
   "outputs": [
    {
     "data": {
      "text/plain": [
       "(1500,)"
      ]
     },
     "execution_count": 107,
     "metadata": {},
     "output_type": "execute_result"
    }
   ],
   "source": [
    "y_train.shape\n"
   ]
  },
  {
   "cell_type": "code",
   "execution_count": 108,
   "id": "0413dced",
   "metadata": {},
   "outputs": [
    {
     "data": {
      "text/plain": [
       "(375,)"
      ]
     },
     "execution_count": 108,
     "metadata": {},
     "output_type": "execute_result"
    }
   ],
   "source": [
    "y_test.shape\n"
   ]
  },
  {
   "cell_type": "markdown",
   "id": "84444586",
   "metadata": {},
   "source": [
    "# Modelling\n"
   ]
  },
  {
   "cell_type": "markdown",
   "id": "e5599b50",
   "metadata": {},
   "source": [
    "# 1. Logistic Regression Model\n"
   ]
  },
  {
   "cell_type": "code",
   "execution_count": 109,
   "id": "e2dc7b05",
   "metadata": {},
   "outputs": [],
   "source": [
    "from sklearn.linear_model import LogisticRegression\n",
    "logit_model = LogisticRegression(multi_class='multinomial')\n",
    "logit_model.fit(X_train, y_train)\n",
    "y_pred = logit_model.predict(X_test)"
   ]
  },
  {
   "cell_type": "code",
   "execution_count": 110,
   "id": "bdbd64de",
   "metadata": {},
   "outputs": [],
   "source": [
    "from sklearn.metrics import confusion_matrix, accuracy_score, precision_score,recall_score,f1_score,classification_report\n"
   ]
  },
  {
   "cell_type": "markdown",
   "id": "2b742f9b",
   "metadata": {},
   "source": [
    "# Performance Evaluation\n"
   ]
  },
  {
   "cell_type": "code",
   "execution_count": 111,
   "id": "df9af56e",
   "metadata": {},
   "outputs": [
    {
     "name": "stdout",
     "output_type": "stream",
     "text": [
      "Accuracy is :  62.4\n"
     ]
    }
   ],
   "source": [
    "print(\"Accuracy is : \", accuracy_score(y_test, y_pred)*100)\n"
   ]
  },
  {
   "cell_type": "raw",
   "id": "f4833757",
   "metadata": {},
   "source": [
    "Confusion Matrix of Logistic Regression Model\n"
   ]
  },
  {
   "cell_type": "markdown",
   "id": "ca6cf253",
   "metadata": {},
   "source": [
    "# 2. KNN Model\n"
   ]
  },
  {
   "cell_type": "code",
   "execution_count": 112,
   "id": "25493c0e",
   "metadata": {},
   "outputs": [],
   "source": [
    "from sklearn.neighbors import KNeighborsClassifier\n"
   ]
  },
  {
   "cell_type": "code",
   "execution_count": 113,
   "id": "8037a593",
   "metadata": {},
   "outputs": [],
   "source": [
    "acc_values = []\n",
    "neighbors = np.arange(3,15)\n",
    "\n",
    "# creating a loop to create KNN model for each K value\n",
    "for k in neighbors:\n",
    "#taking the instance of KNN to a variable.the variable name is classifier.\n",
    "    classifier = KNeighborsClassifier(n_neighbors= k, metric = 'minkowski')    #no: of neighbors n the methode to measure the distance .instance is created\n",
    "#we have to create the model.\n",
    "    classifier = KNeighborsClassifier(n_neighbors= k)\n",
    "    classifier.fit(X_train,y_train)\n",
    "#have to predict output using this model.\n",
    "    y_pred = classifier.predict(X_test)#KNN is created\n",
    "#append the accurcy values to empty list in order to fing out maximum accuracy.\n",
    "    acc = accuracy_score(y_test, y_pred)#taking accuracy values to variable acc \n",
    "#append these accuracy values to our list\n",
    "    acc_values.append(acc)"
   ]
  },
  {
   "cell_type": "code",
   "execution_count": 114,
   "id": "3a891742",
   "metadata": {},
   "outputs": [
    {
     "data": {
      "text/plain": [
       "[0.5893333333333334,\n",
       " 0.5813333333333334,\n",
       " 0.6106666666666667,\n",
       " 0.608,\n",
       " 0.6053333333333333,\n",
       " 0.6213333333333333,\n",
       " 0.6346666666666667,\n",
       " 0.616,\n",
       " 0.616,\n",
       " 0.6213333333333333,\n",
       " 0.6186666666666667,\n",
       " 0.616]"
      ]
     },
     "execution_count": 114,
     "metadata": {},
     "output_type": "execute_result"
    }
   ],
   "source": [
    "acc_values\n"
   ]
  },
  {
   "cell_type": "raw",
   "id": "ac84c949",
   "metadata": {},
   "source": [
    "To find which k value got the highest accuracy, plotted a graph between neighbor values (i.e. k values) and accuracy values\n"
   ]
  },
  {
   "cell_type": "code",
   "execution_count": 115,
   "id": "94509a6f",
   "metadata": {},
   "outputs": [
    {
     "data": {
      "text/plain": [
       "Text(0, 0.5, 'accuracy')"
      ]
     },
     "execution_count": 115,
     "metadata": {},
     "output_type": "execute_result"
    },
    {
     "data": {
      "image/png": "[encoded data removed]",
      "text/plain": [
       "<Figure size 432x288 with 1 Axes>"
      ]
     },
     "metadata": {
      "needs_background": "light"
     },
     "output_type": "display_data"
    }
   ],
   "source": [
    "plt.plot(neighbors,acc_values,'o-')\n",
    "plt.xlabel('k value')\n",
    "plt.ylabel('accuracy')"
   ]
  },
  {
   "cell_type": "markdown",
   "id": "da91536d",
   "metadata": {},
   "source": [
    "KNN model with k=9\n"
   ]
  },
  {
   "cell_type": "code",
   "execution_count": 118,
   "id": "bd67702e",
   "metadata": {},
   "outputs": [],
   "source": [
    "classifier = KNeighborsClassifier(n_neighbors= 9, metric = 'minkowski')\n",
    "classifier.fit(X_train,y_train)\n",
    "y_pred = classifier.predict(X_test)"
   ]
  },
  {
   "cell_type": "markdown",
   "id": "c1b4a9b0",
   "metadata": {},
   "source": [
    "# Performance Evaluation\n"
   ]
  },
  {
   "cell_type": "code",
   "execution_count": 119,
   "id": "42de13c1",
   "metadata": {},
   "outputs": [
    {
     "name": "stdout",
     "output_type": "stream",
     "text": [
      "Accuracy is :  63.46666666666667\n"
     ]
    }
   ],
   "source": [
    "print(\"Accuracy is : \", accuracy_score(y_test, y_pred)*100)\n"
   ]
  },
  {
   "cell_type": "markdown",
   "id": "8cd9f277",
   "metadata": {},
   "source": [
    "# Confusion Matrix for KNN Classifier\n"
   ]
  },
  {
   "cell_type": "code",
   "execution_count": 120,
   "id": "9130184c",
   "metadata": {},
   "outputs": [
    {
     "data": {
      "text/plain": [
       "array([[ 10,  19,  13,   5],\n",
       "       [ 14,  35,   6,  24],\n",
       "       [  9,  11, 132,  15],\n",
       "       [  7,  14,   0,  61]], dtype=int64)"
      ]
     },
     "execution_count": 120,
     "metadata": {},
     "output_type": "execute_result"
    }
   ],
   "source": [
    "confusion_matrix(y_test,y_pred)\n"
   ]
  },
  {
   "cell_type": "markdown",
   "id": "e4e78ee8",
   "metadata": {},
   "source": [
    "# 3. Decision Tree Classifier\n"
   ]
  },
  {
   "cell_type": "code",
   "execution_count": 121,
   "id": "68d2771d",
   "metadata": {},
   "outputs": [],
   "source": [
    "from sklearn.tree import DecisionTreeClassifier\n",
    "dt_model = DecisionTreeClassifier()\n",
    "dt_model.fit(X_train,y_train)\n",
    "y_pred = dt_model.predict(X_test)"
   ]
  },
  {
   "cell_type": "markdown",
   "id": "495714e8",
   "metadata": {},
   "source": [
    "# Performance Evaluation\n"
   ]
  },
  {
   "cell_type": "code",
   "execution_count": 122,
   "id": "634ea70a",
   "metadata": {},
   "outputs": [
    {
     "name": "stdout",
     "output_type": "stream",
     "text": [
      "Accuracy is :  57.06666666666666\n"
     ]
    }
   ],
   "source": [
    "print(\"Accuracy is : \", accuracy_score(y_test, y_pred)*100)\n"
   ]
  },
  {
   "cell_type": "markdown",
   "id": "c7cc596e",
   "metadata": {},
   "source": [
    "# Confusion Matrix of Decision Tree Model\n"
   ]
  },
  {
   "cell_type": "code",
   "execution_count": 123,
   "id": "f6edb722",
   "metadata": {},
   "outputs": [
    {
     "data": {
      "text/plain": [
       "array([[ 14,  20,   9,   4],\n",
       "       [ 16,  41,   9,  13],\n",
       "       [ 18,  20, 117,  12],\n",
       "       [  8,  23,   9,  42]], dtype=int64)"
      ]
     },
     "execution_count": 123,
     "metadata": {},
     "output_type": "execute_result"
    }
   ],
   "source": [
    "confusion_matrix(y_test,y_pred)\n"
   ]
  },
  {
   "cell_type": "markdown",
   "id": "9cc9966d",
   "metadata": {},
   "source": [
    "# 4. Support Vector Machine\n"
   ]
  },
  {
   "cell_type": "markdown",
   "id": "93afe052",
   "metadata": {},
   "source": [
    "# a. Linear SVM\n"
   ]
  },
  {
   "cell_type": "code",
   "execution_count": 124,
   "id": "4fe3cfe6",
   "metadata": {},
   "outputs": [],
   "source": [
    "from sklearn.svm import SVC\n",
    "svm_linear = SVC(kernel = 'linear')#creating an instance\n",
    "svm_linear.fit(X_train,y_train)\n",
    "y_pred = svm_linear.predict(X_test)"
   ]
  },
  {
   "cell_type": "markdown",
   "id": "9ff72d5c",
   "metadata": {},
   "source": [
    "# Performance Evaluation\n"
   ]
  },
  {
   "cell_type": "code",
   "execution_count": 125,
   "id": "0da051ff",
   "metadata": {},
   "outputs": [
    {
     "name": "stdout",
     "output_type": "stream",
     "text": [
      "Accuracy is :  64.53333333333333\n"
     ]
    }
   ],
   "source": [
    "print(\"Accuracy is : \", accuracy_score(y_test, y_pred)*100)\n"
   ]
  },
  {
   "cell_type": "markdown",
   "id": "49eb3331",
   "metadata": {},
   "source": [
    "# Confusion Matrix of Linear SVM Model\n"
   ]
  },
  {
   "cell_type": "code",
   "execution_count": 127,
   "id": "7620be6c",
   "metadata": {},
   "outputs": [
    {
     "data": {
      "text/plain": [
       "array([[  0,  16,  22,   9],\n",
       "       [  0,  36,  19,  24],\n",
       "       [  0,  12, 136,  19],\n",
       "       [  0,  11,   1,  70]], dtype=int64)"
      ]
     },
     "execution_count": 127,
     "metadata": {},
     "output_type": "execute_result"
    }
   ],
   "source": [
    "confusion_matrix(y_test,y_pred)\n"
   ]
  },
  {
   "cell_type": "markdown",
   "id": "0eefba4d",
   "metadata": {},
   "source": [
    "# b. Polynomial SVM\n"
   ]
  },
  {
   "cell_type": "code",
   "execution_count": 128,
   "id": "3287f571",
   "metadata": {},
   "outputs": [],
   "source": [
    "svm_poly = SVC(kernel = 'poly', degree=3)\n",
    "svm_poly.fit(X_train,y_train)\n",
    "y_pred = svm_poly.predict(X_test)"
   ]
  },
  {
   "cell_type": "markdown",
   "id": "489d56de",
   "metadata": {},
   "source": [
    "# Performance Evaluation\n"
   ]
  },
  {
   "cell_type": "code",
   "execution_count": 129,
   "id": "4ade82c6",
   "metadata": {},
   "outputs": [
    {
     "name": "stdout",
     "output_type": "stream",
     "text": [
      "Accuracy is :  65.06666666666666\n"
     ]
    }
   ],
   "source": [
    "print(\"Accuracy is : \", accuracy_score(y_test, y_pred)*100)\n"
   ]
  },
  {
   "cell_type": "markdown",
   "id": "92bdce29",
   "metadata": {},
   "source": [
    "# Confusion Matrix of Polynomial SVM\n"
   ]
  },
  {
   "cell_type": "code",
   "execution_count": 130,
   "id": "f48b644c",
   "metadata": {},
   "outputs": [
    {
     "data": {
      "text/plain": [
       "array([[  3,  18,  19,   7],\n",
       "       [  6,  37,  17,  19],\n",
       "       [  3,  13, 136,  15],\n",
       "       [  1,  11,   2,  68]], dtype=int64)"
      ]
     },
     "execution_count": 130,
     "metadata": {},
     "output_type": "execute_result"
    }
   ],
   "source": [
    "confusion_matrix(y_test,y_pred)\n"
   ]
  },
  {
   "cell_type": "markdown",
   "id": "558f4541",
   "metadata": {},
   "source": [
    "# c. Radial SVM\n"
   ]
  },
  {
   "cell_type": "code",
   "execution_count": 131,
   "id": "1105d52d",
   "metadata": {},
   "outputs": [],
   "source": [
    "svm_radial = SVC(kernel='rbf')\n",
    "svm_radial.fit(X_train,y_train)\n",
    "y_pred=svm_radial.predict(X_test)"
   ]
  },
  {
   "cell_type": "markdown",
   "id": "e2572925",
   "metadata": {},
   "source": [
    "# Performance Evaluation\n"
   ]
  },
  {
   "cell_type": "code",
   "execution_count": 132,
   "id": "3d6588b1",
   "metadata": {},
   "outputs": [
    {
     "name": "stdout",
     "output_type": "stream",
     "text": [
      "Accuracy is :  66.13333333333333\n"
     ]
    }
   ],
   "source": [
    "print(\"Accuracy is : \", accuracy_score(y_test, y_pred)*100)\n"
   ]
  },
  {
   "cell_type": "markdown",
   "id": "766eba9e",
   "metadata": {},
   "source": [
    "# Confusion Matrix\n"
   ]
  },
  {
   "cell_type": "code",
   "execution_count": 133,
   "id": "0a6b395b",
   "metadata": {},
   "outputs": [
    {
     "data": {
      "text/plain": [
       "array([[  2,  22,  15,   8],\n",
       "       [  4,  47,   4,  24],\n",
       "       [  2,  19, 130,  16],\n",
       "       [  0,  13,   0,  69]], dtype=int64)"
      ]
     },
     "execution_count": 133,
     "metadata": {},
     "output_type": "execute_result"
    }
   ],
   "source": [
    "confusion_matrix(y_test,y_pred)\n"
   ]
  },
  {
   "cell_type": "markdown",
   "id": "c3e85f6d",
   "metadata": {},
   "source": [
    "# 5. Random Forest\n"
   ]
  },
  {
   "cell_type": "code",
   "execution_count": 134,
   "id": "a7922af6",
   "metadata": {},
   "outputs": [],
   "source": [
    "from sklearn.ensemble import RandomForestClassifier\n",
    "rf=RandomForestClassifier()\n",
    "#training the model\n",
    "rf.fit(X_train,y_train)\n",
    "#to make predictions\n",
    "y_pred=rf.predict(X_test)"
   ]
  },
  {
   "cell_type": "markdown",
   "id": "eced6323",
   "metadata": {},
   "source": [
    "# Performance Evaluation\n"
   ]
  },
  {
   "cell_type": "code",
   "execution_count": 135,
   "id": "f6f23498",
   "metadata": {},
   "outputs": [
    {
     "name": "stdout",
     "output_type": "stream",
     "text": [
      "Accuracy is :  62.93333333333333\n"
     ]
    }
   ],
   "source": [
    "print(\"Accuracy is : \", accuracy_score(y_test, y_pred)*100)\n"
   ]
  },
  {
   "cell_type": "markdown",
   "id": "0f8c24a3",
   "metadata": {},
   "source": [
    "# Confusion Matrix\n"
   ]
  },
  {
   "cell_type": "code",
   "execution_count": 136,
   "id": "005152f7",
   "metadata": {},
   "outputs": [
    {
     "data": {
      "text/plain": [
       "array([[  7,  19,  13,   8],\n",
       "       [ 12,  41,   8,  18],\n",
       "       [  4,  16, 132,  15],\n",
       "       [  6,  17,   3,  56]], dtype=int64)"
      ]
     },
     "execution_count": 136,
     "metadata": {},
     "output_type": "execute_result"
    }
   ],
   "source": [
    "confusion_matrix(y_test,y_pred)\n"
   ]
  },
  {
   "cell_type": "markdown",
   "id": "7a810540",
   "metadata": {},
   "source": [
    "# Feature Importance\n"
   ]
  },
  {
   "cell_type": "code",
   "execution_count": 137,
   "id": "25c2fe11",
   "metadata": {},
   "outputs": [
    {
     "data": {
      "text/plain": [
       "Effectiveness    40.425781\n",
       "Age              17.402196\n",
       "EaseofUse        15.897903\n",
       "Condition        11.957845\n",
       "Race             11.297689\n",
       "Sex               3.018586\n",
       "dtype: float64"
      ]
     },
     "execution_count": 137,
     "metadata": {},
     "output_type": "execute_result"
    }
   ],
   "source": [
    "pd.Series(rf.feature_importances_,index=X.columns).sort_values(ascending=False)*100\n"
   ]
  },
  {
   "cell_type": "markdown",
   "id": "0bf325d2",
   "metadata": {},
   "source": [
    "# Fine tuning of hyper parameters\n"
   ]
  },
  {
   "cell_type": "code",
   "execution_count": 138,
   "id": "33f5a334",
   "metadata": {},
   "outputs": [
    {
     "data": {
      "text/plain": [
       "RandomForestClassifier()"
      ]
     },
     "execution_count": 138,
     "metadata": {},
     "output_type": "execute_result"
    }
   ],
   "source": [
    "rf.fit(X_train,y_train)\n"
   ]
  },
  {
   "cell_type": "code",
   "execution_count": 139,
   "id": "f55a5988",
   "metadata": {},
   "outputs": [
    {
     "data": {
      "text/plain": [
       "RandomForestClassifier(criterion='entropy', max_depth=8, n_estimators=1000,\n",
       "                       random_state=42)"
      ]
     },
     "execution_count": 139,
     "metadata": {},
     "output_type": "execute_result"
    }
   ],
   "source": [
    "# creating another instance of random forest classifier with some changes in hyperparameter\n",
    "rft= RandomForestClassifier(bootstrap=True, n_estimators=1000,max_depth=8,random_state =42,criterion='entropy')\n",
    "rft.fit(X_train,y_train)"
   ]
  },
  {
   "cell_type": "code",
   "execution_count": 140,
   "id": "1bf145d9",
   "metadata": {},
   "outputs": [],
   "source": [
    "y_pred=rft.predict(X_test)\n"
   ]
  },
  {
   "cell_type": "code",
   "execution_count": 141,
   "id": "60196c3b",
   "metadata": {},
   "outputs": [
    {
     "name": "stdout",
     "output_type": "stream",
     "text": [
      "Accuracy is :  67.46666666666667\n"
     ]
    }
   ],
   "source": [
    "print(\"Accuracy is : \", accuracy_score(y_test, y_pred)*100)\n"
   ]
  },
  {
   "cell_type": "markdown",
   "id": "738feb48",
   "metadata": {},
   "source": [
    "# 6. Gradient Boosting\n"
   ]
  },
  {
   "cell_type": "code",
   "execution_count": 142,
   "id": "f7ad5ad1",
   "metadata": {},
   "outputs": [],
   "source": [
    "from sklearn.ensemble import GradientBoostingClassifier\n",
    "gb = GradientBoostingClassifier()\n",
    "gb.fit(X_train,y_train)\n",
    "y_pred = gb.predict(X_test)"
   ]
  },
  {
   "cell_type": "markdown",
   "id": "a2edf06c",
   "metadata": {},
   "source": [
    "# Performance Evaluation\n"
   ]
  },
  {
   "cell_type": "code",
   "execution_count": 143,
   "id": "edc58a3e",
   "metadata": {},
   "outputs": [
    {
     "name": "stdout",
     "output_type": "stream",
     "text": [
      "Accuracy is:  66.4\n"
     ]
    }
   ],
   "source": [
    "print('Accuracy is: ',accuracy_score(y_test,y_pred)*100)\n"
   ]
  },
  {
   "cell_type": "markdown",
   "id": "6f9ee330",
   "metadata": {},
   "source": [
    "# Confusion Matrix\n"
   ]
  },
  {
   "cell_type": "code",
   "execution_count": 144,
   "id": "8838229a",
   "metadata": {},
   "outputs": [
    {
     "data": {
      "text/plain": [
       "array([[ 10,  19,  11,   7],\n",
       "       [  2,  51,   5,  21],\n",
       "       [ 13,  17, 123,  14],\n",
       "       [  1,  15,   1,  65]], dtype=int64)"
      ]
     },
     "execution_count": 144,
     "metadata": {},
     "output_type": "execute_result"
    }
   ],
   "source": [
    "confusion_matrix(y_test,y_pred)\n"
   ]
  },
  {
   "cell_type": "markdown",
   "id": "a13d1391",
   "metadata": {},
   "source": [
    "# 7. Extreme Gradient Boosting\n"
   ]
  },
  {
   "cell_type": "code",
   "execution_count": 145,
   "id": "7862da17",
   "metadata": {},
   "outputs": [],
   "source": [
    "from xgboost import XGBClassifier\n",
    "#creating an instance\n",
    "xgb=XGBClassifier()\n",
    "xgb.fit(X_train,y_train)\n",
    "y_pred= xgb.predict(X_test)"
   ]
  },
  {
   "cell_type": "markdown",
   "id": "64f214d0",
   "metadata": {},
   "source": [
    "# Performance Evaluation\n"
   ]
  },
  {
   "cell_type": "code",
   "execution_count": 146,
   "id": "fec351ee",
   "metadata": {},
   "outputs": [
    {
     "name": "stdout",
     "output_type": "stream",
     "text": [
      "Accuracy is:  60.53333333333333\n"
     ]
    }
   ],
   "source": [
    "print('Accuracy is: ',accuracy_score(y_test,y_pred)*100)\n"
   ]
  },
  {
   "cell_type": "markdown",
   "id": "ad581554",
   "metadata": {},
   "source": [
    "# Confusion Matrix\n"
   ]
  },
  {
   "cell_type": "code",
   "execution_count": 147,
   "id": "0f2f135d",
   "metadata": {},
   "outputs": [
    {
     "data": {
      "text/plain": [
       "array([[  7,  20,  14,   6],\n",
       "       [ 13,  38,   8,  20],\n",
       "       [  9,  20, 124,  14],\n",
       "       [  5,  17,   2,  58]], dtype=int64)"
      ]
     },
     "execution_count": 147,
     "metadata": {},
     "output_type": "execute_result"
    }
   ],
   "source": [
    "confusion_matrix(y_test,y_pred)\n"
   ]
  },
  {
   "cell_type": "markdown",
   "id": "c13e9d6b",
   "metadata": {},
   "source": [
    "# 8. LightGBM\n"
   ]
  },
  {
   "cell_type": "code",
   "execution_count": 149,
   "id": "aa8b3be4",
   "metadata": {},
   "outputs": [
    {
     "name": "stdout",
     "output_type": "stream",
     "text": [
      "Defaulting to user installation because normal site-packages is not writeable\n",
      "Collecting lightgbm\n",
      "  Downloading lightgbm-3.3.2-py3-none-win_amd64.whl (1.0 MB)\n",
      "Requirement already satisfied: wheel in c:\\programdata\\anaconda3\\lib\\site-packages (from lightgbm) (0.37.1)\n",
      "Requirement already satisfied: scipy in c:\\programdata\\anaconda3\\lib\\site-packages (from lightgbm) (1.7.3)\n",
      "Requirement already satisfied: numpy in c:\\programdata\\anaconda3\\lib\\site-packages (from lightgbm) (1.21.5)\n",
      "Requirement already satisfied: scikit-learn!=0.22.0 in c:\\programdata\\anaconda3\\lib\\site-packages (from lightgbm) (1.0.2)\n",
      "Requirement already satisfied: joblib>=0.11 in c:\\programdata\\anaconda3\\lib\\site-packages (from scikit-learn!=0.22.0->lightgbm) (1.1.0)\n",
      "Requirement already satisfied: threadpoolctl>=2.0.0 in c:\\programdata\\anaconda3\\lib\\site-packages (from scikit-learn!=0.22.0->lightgbm) (2.2.0)\n",
      "Installing collected packages: lightgbm\n",
      "Successfully installed lightgbm-3.3.2\n",
      "Note: you may need to restart the kernel to use updated packages.\n"
     ]
    }
   ],
   "source": [
    "pip install lightgbm"
   ]
  },
  {
   "cell_type": "code",
   "execution_count": 150,
   "id": "b71b9d9b",
   "metadata": {},
   "outputs": [],
   "source": [
    "# Fitting the training data and making the predictions on test data\n",
    "from lightgbm import LGBMModel,LGBMClassifier, plot_importance\n",
    "clf = LGBMClassifier(\n",
    "        n_estimators=10000,\n",
    "        learning_rate=0.10,\n",
    "        num_leaves=30,\n",
    "        subsample=.9,\n",
    "        max_depth=7,\n",
    "        reg_alpha=.1,\n",
    "        reg_lambda=.1,\n",
    "        min_split_gain=.01,\n",
    "        min_child_weight=2,\n",
    "        silent=-1,\n",
    "        verbose=-1,\n",
    "        )\n",
    "model = clf.fit(X_train, y_train)\n",
    "y_pred=clf.predict(X_test)"
   ]
  },
  {
   "cell_type": "code",
   "execution_count": 151,
   "id": "525ccd34",
   "metadata": {},
   "outputs": [
    {
     "name": "stdout",
     "output_type": "stream",
     "text": [
      "Accuracy is 0.6373333333333333\n",
      "precision is 0.6373333333333333\n",
      "Recall is 0.6373333333333333\n",
      "f1 score is 0.6373333333333333\n"
     ]
    },
    {
     "data": {
      "text/plain": [
       "array([[  6,  21,  12,   8],\n",
       "       [  5,  44,   7,  23],\n",
       "       [  8,  18, 126,  15],\n",
       "       [  2,  16,   1,  63]], dtype=int64)"
      ]
     },
     "execution_count": 151,
     "metadata": {},
     "output_type": "execute_result"
    }
   ],
   "source": [
    "# Performance Evaluation:\n",
    "print(\"Accuracy is\", accuracy_score(y_test,y_pred))\n",
    "print(\"precision is\", precision_score(y_test, y_pred, pos_label='positive', average='micro'))\n",
    "print(\"Recall is\", recall_score(y_test,y_pred,  pos_label='positive', average='micro'))\n",
    "print(\"f1 score is\" ,f1_score(y_test,y_pred,  pos_label='positive', average='micro'))\n",
    "confusion_matrix(y_test,y_pred)"
   ]
  },
  {
   "cell_type": "markdown",
   "id": "aa8d78dc",
   "metadata": {},
   "source": [
    "# 9. Naive Bayes\n"
   ]
  },
  {
   "cell_type": "markdown",
   "id": "4747bbe8",
   "metadata": {},
   "source": [
    "A. Bernoulli Naive Bayes\n"
   ]
  },
  {
   "cell_type": "code",
   "execution_count": 153,
   "id": "676e2a20",
   "metadata": {},
   "outputs": [],
   "source": [
    "# Fitting the training data and making the predictions on test data\n",
    "from sklearn.naive_bayes import BernoulliNB\n",
    "classifier=BernoulliNB()\n",
    "classifier.fit(X_train,y_train)\n",
    "y_pred=classifier.predict(X_test)"
   ]
  },
  {
   "cell_type": "code",
   "execution_count": 154,
   "id": "d790a3e7",
   "metadata": {},
   "outputs": [],
   "source": [
    "# Fitting the training data and making the predictions on test data\n",
    "from sklearn.naive_bayes import BernoulliNB\n",
    "classifier=BernoulliNB()\n",
    "classifier.fit(X_train,y_train)\n",
    "y_pred=classifier.predict(X_test)"
   ]
  },
  {
   "cell_type": "code",
   "execution_count": 155,
   "id": "e8734009",
   "metadata": {},
   "outputs": [
    {
     "name": "stdout",
     "output_type": "stream",
     "text": [
      "Accuracy is 0.448\n",
      "precision is 0.448\n",
      "Recall is 0.448\n",
      "f1 score is 0.44800000000000006\n"
     ]
    },
    {
     "data": {
      "text/plain": [
       "array([[  1,   0,  46,   0],\n",
       "       [  1,   0,  78,   0],\n",
       "       [  0,   0, 167,   0],\n",
       "       [  0,   0,  82,   0]], dtype=int64)"
      ]
     },
     "execution_count": 155,
     "metadata": {},
     "output_type": "execute_result"
    }
   ],
   "source": [
    "# Performance Evaluation:\n",
    "print(\"Accuracy is\", accuracy_score(y_test,y_pred))\n",
    "print(\"precision is\", precision_score(y_test, y_pred, pos_label='positive', average='micro'))\n",
    "print(\"Recall is\", recall_score(y_test,y_pred,  pos_label='positive', average='micro'))\n",
    "print(\"f1 score is\" ,f1_score(y_test,y_pred,  pos_label='positive', average='micro'))\n",
    "confusion_matrix(y_test,y_pred)"
   ]
  },
  {
   "cell_type": "markdown",
   "id": "6018cfdd",
   "metadata": {},
   "source": [
    "# Inference\n"
   ]
  },
  {
   "cell_type": "raw",
   "id": "3e80f80c",
   "metadata": {},
   "source": [
    "Accuracies of classification models:\n",
    "\n"
   ]
  },
  {
   "cell_type": "markdown",
   "id": "73ba40f7",
   "metadata": {},
   "source": [
    "1) Logistic Regression - 62.4%\n",
    "2) KNN Model - 63.4%\n",
    "3) Decision Tree Classifier - 57%\n",
    "4) Support Vector Machine:\n",
    "\n",
    "   4.1)Linear SVM - 64.5%\n",
    "\n",
    "   4.2)Polynomial SVM - 65%\n",
    "\n",
    "   4.3)Radial SVM - 66.1%\n",
    "\n",
    "5) Random Forest - 62.9%\n",
    "    Fine-tuning Random Forest - 67.46%\n",
    "\n",
    "\n",
    "6) Gradient Boosting - 66.4%\n",
    "7) Extreme Gradient Boosting - 60.5%\n",
    "\n",
    "8) lightbgm - .63%\n",
    "\n",
    "9) Naive Bayes :\n",
    "    9.1) Bernoulli naive bayes - .44%"
   ]
  },
  {
   "cell_type": "markdown",
   "id": "4442412f",
   "metadata": {},
   "source": [
    "# Recommendations\n"
   ]
  },
  {
   "cell_type": "markdown",
   "id": "57a815d4",
   "metadata": {},
   "source": [
    "Based on the derived EDAs, the following are recommended with regard to the use of lyrica:\n",
    "   1) The drug is safe for use by those up to 24 years (maximum nil side effects)\n",
    " \n",
    "   2) Females in general are better to use the drug under a physician’s guidance given the high chances of extremely severe side effects.\n",
    "\n",
    "\n",
    "\n",
    "\n"
   ]
  },
  {
   "cell_type": "markdown",
   "id": "3ba71bab",
   "metadata": {},
   "source": [
    "# Conclusion\n"
   ]
  },
  {
   "cell_type": "markdown",
   "id": "d7e6642e",
   "metadata": {},
   "source": [
    "Performed various pre-processing steps and obtained a clean dataset for exploratory data analysis and modelling. Various visualisations were done on the dataset and selected a particular drug lyrica. Maximum users consume this drug for neuropathic pain.\n",
    "The best classification model was obtained by Random Forest. On performance evaluation, maximum accuracy of 67.46% has been achieved.\n",
    "By race, Whites topped in the usage of this drug with a higher female ratio. Domination of female users were consistent across age groups above 12 and below 75 years. Also, people in the age groups  45 to 54 accounted for maximum usage of lyrica. Most users found lyrica as highly effective, especially females. Most rated it highly for its ease of use as well. Side effects of the drug proved race neutral. Genderwise, side effects proved extreme in females.\n",
    "\n",
    "\n",
    "\n",
    "\n",
    "\n"
   ]
  },
  {
   "cell_type": "code",
   "execution_count": null,
   "id": "fedb6f5d",
   "metadata": {},
   "outputs": [],
   "source": []
  }
 ],
 "metadata": {
  "kernelspec": {
   "display_name": "Python 3 (ipykernel)",
   "language": "python",
   "name": "python3"
  },
  "language_info": {
   "codemirror_mode": {
    "name": "ipython",
    "version": 3
   },
   "file_extension": ".py",
   "mimetype": "text/x-python",
   "name": "python",
   "nbconvert_exporter": "python",
   "pygments_lexer": "ipython3",
   "version": "3.9.12"
  }
 },
 "nbformat": 4,
 "nbformat_minor": 5
}
